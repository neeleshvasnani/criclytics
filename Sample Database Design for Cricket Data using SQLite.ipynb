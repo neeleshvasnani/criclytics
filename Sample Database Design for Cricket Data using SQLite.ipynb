{
 "cells": [
  {
   "cell_type": "code",
   "execution_count": 29,
   "metadata": {},
   "outputs": [
    {
     "data": {
      "text/html": [
       "<style>.container { width:75% !important; }</style>"
      ],
      "text/plain": [
       "<IPython.core.display.HTML object>"
      ]
     },
     "metadata": {},
     "output_type": "display_data"
    }
   ],
   "source": [
    "from IPython.core.display import display, HTML\n",
    "display(HTML(\"<style>.container { width:75% !important; }</style>\"))"
   ]
  },
  {
   "cell_type": "markdown",
   "metadata": {},
   "source": [
    "<img src=../images/database-design-cricket-neelesh-vasnani.jpg>\n",
    "\n",
    "\n",
    "\n",
    "# Sample Database Design for Cricket Data using SQLite\n",
    "By: Neelesh Vasnani | 14 February 2021\n",
    "\n",
    "Assignment #3 - 158.739 Introduction to Analytics - Master of Analytics - Massey University"
   ]
  },
  {
   "cell_type": "markdown",
   "metadata": {},
   "source": [
    "In this notebook, all the previously acquired Cricket data is populated into a SQLite relational database in normalized schema form. Sample queries, views, and selected visualizations are then generated using this resulting database as the persistent data source."
   ]
  },
  {
   "cell_type": "markdown",
   "metadata": {},
   "source": [
    "### - Loading Libraries and Defining Functions"
   ]
  },
  {
   "cell_type": "code",
   "execution_count": 87,
   "metadata": {},
   "outputs": [],
   "source": [
    "#importing required modules\n",
    "\n",
    "import matplotlib\n",
    "import matplotlib.pyplot as plt\n",
    "import pandas as pd\n",
    "import numpy as np\n",
    "import seaborn as sns\n",
    "from pylab import rcParams\n",
    "from matplotlib import cm\n",
    "import sqlite3\n",
    "import datetime as dt\n",
    "\n",
    "#setting up plotting options\n",
    "\n",
    "%matplotlib inline\n",
    "%reload_ext autoreload\n",
    "%autoreload 2\n",
    "\n",
    "rcParams['figure.figsize'] = 14,8\n",
    "rcParams['font.size'] = 20\n",
    "rcParams['axes.facecolor'] = 'white'\n",
    "plt.style.use('seaborn-white')\n",
    "sns.set_style('white')\n",
    "sns.set_context('paper', font_scale=1.5)\n",
    "palette = sns.color_palette(\"Greens\")\n",
    "\n",
    "#display options for Pandas\n",
    "\n",
    "pd.set_option('max_columns', 20)\n",
    "pd.set_option('max_rows', 20)"
   ]
  },
  {
   "cell_type": "code",
   "execution_count": 205,
   "metadata": {},
   "outputs": [],
   "source": [
    "#custom function to add bar labels to bar chart        \n",
    "        \n",
    "def addbarhlabels(ax, spacing=5):\n",
    "    \n",
    "    for rect in ax.patches:\n",
    "        x_value = rect.get_width()\n",
    "        y_value = rect.get_y() + rect.get_height() / 2\n",
    "        space = 5\n",
    "        ha = 'left'\n",
    "        if x_value < 0:\n",
    "            space *= -1\n",
    "            ha = 'right'\n",
    "        label = \"{:.0f}\".format(x_value)\n",
    "        plt.annotate(\n",
    "            label,                      \n",
    "            (x_value, y_value),        \n",
    "            xytext=(space, 0),          \n",
    "            textcoords=\"offset points\", \n",
    "            va='center',            \n",
    "            ha=ha)  \n",
    "        \n",
    "#no borders in plot\n",
    "\n",
    "def noborders(ax):\n",
    "    ax.spines['top'].set_visible(False)\n",
    "    ax.spines['right'].set_visible(False)\n",
    "    ax.spines['left'].set_visible(False)\n",
    "    ax.spines['bottom'].set_visible(False)\n",
    "    "
   ]
  },
  {
   "cell_type": "code",
   "execution_count": null,
   "metadata": {},
   "outputs": [],
   "source": [
    "#loading sql\n",
    "%load_ext sql"
   ]
  },
  {
   "cell_type": "markdown",
   "metadata": {},
   "source": [
    "### - Database Schema"
   ]
  },
  {
   "cell_type": "markdown",
   "metadata": {},
   "source": [
    "<img src=../images/cricket_rdb_schema.png>"
   ]
  },
  {
   "cell_type": "markdown",
   "metadata": {},
   "source": [
    "The figure above shows the database schema relational model encompassing all the data. The database consists of five tables and several attributes. The two main tables are the players and matches tables which contain key data attributes about all the Cricket players and Cricket matches. \n",
    "\n",
    "The players table contains mostly numerical information about each Cricket player, such as number of matches played, runs scored, wickets taken, etc. However, it does not include which country a player belongs to. The playercountrymap table is a two-column table that maps players to their respective country short codes (e.g. ENG for England). In this way, there is a one-to-one relationship between the two through the primary key \"player_id\". The playercountrymap is linked to a table called \"countrynamemap\" which maps out country codes to their full country name. This \"countrynamemap\" is in turn linked to the countries table which contains country-level demographic variables such as population and gdp per capita. Through this chain of tables, players can easily be linked to the full names of their respective countries. Finally, the matches table contains information about the match results of each and every cricket match played. This table is also linked to the countries table through the foreign key \"country\". \n",
    "\n",
    "What follows is a step-by-step process of populating the database with the above-designed database schema in mind."
   ]
  },
  {
   "cell_type": "markdown",
   "metadata": {},
   "source": [
    "### - Importing Data from CSV"
   ]
  },
  {
   "cell_type": "code",
   "execution_count": 142,
   "metadata": {},
   "outputs": [
    {
     "data": {
      "text/html": [
       "<div>\n",
       "<style scoped>\n",
       "    .dataframe tbody tr th:only-of-type {\n",
       "        vertical-align: middle;\n",
       "    }\n",
       "\n",
       "    .dataframe tbody tr th {\n",
       "        vertical-align: top;\n",
       "    }\n",
       "\n",
       "    .dataframe thead th {\n",
       "        text-align: right;\n",
       "    }\n",
       "</style>\n",
       "<table border=\"1\" class=\"dataframe\">\n",
       "  <thead>\n",
       "    <tr style=\"text-align: right;\">\n",
       "      <th></th>\n",
       "      <th>Player</th>\n",
       "      <th>Mat</th>\n",
       "      <th>Runs</th>\n",
       "      <th>HS</th>\n",
       "      <th>Bat Av</th>\n",
       "      <th>100</th>\n",
       "      <th>Wkts</th>\n",
       "      <th>Bowl Av</th>\n",
       "      <th>5</th>\n",
       "      <th>Ct</th>\n",
       "      <th>St</th>\n",
       "      <th>Ave Diff</th>\n",
       "      <th>career_start</th>\n",
       "      <th>career_end</th>\n",
       "      <th>career_length</th>\n",
       "    </tr>\n",
       "    <tr>\n",
       "      <th>player_id</th>\n",
       "      <th></th>\n",
       "      <th></th>\n",
       "      <th></th>\n",
       "      <th></th>\n",
       "      <th></th>\n",
       "      <th></th>\n",
       "      <th></th>\n",
       "      <th></th>\n",
       "      <th></th>\n",
       "      <th></th>\n",
       "      <th></th>\n",
       "      <th></th>\n",
       "      <th></th>\n",
       "      <th></th>\n",
       "      <th></th>\n",
       "    </tr>\n",
       "  </thead>\n",
       "  <tbody>\n",
       "    <tr>\n",
       "      <th>1</th>\n",
       "      <td>T Armitage (ENG)</td>\n",
       "      <td>2</td>\n",
       "      <td>33</td>\n",
       "      <td>21.0</td>\n",
       "      <td>11.00</td>\n",
       "      <td>0</td>\n",
       "      <td>0</td>\n",
       "      <td>0.0</td>\n",
       "      <td>0</td>\n",
       "      <td>0</td>\n",
       "      <td>0</td>\n",
       "      <td>0.0</td>\n",
       "      <td>1877</td>\n",
       "      <td>1877</td>\n",
       "      <td>1</td>\n",
       "    </tr>\n",
       "    <tr>\n",
       "      <th>2</th>\n",
       "      <td>C Bannerman (AUS)</td>\n",
       "      <td>3</td>\n",
       "      <td>239</td>\n",
       "      <td>165.0</td>\n",
       "      <td>59.75</td>\n",
       "      <td>1</td>\n",
       "      <td>0</td>\n",
       "      <td>0.0</td>\n",
       "      <td>0</td>\n",
       "      <td>0</td>\n",
       "      <td>0</td>\n",
       "      <td>0.0</td>\n",
       "      <td>1877</td>\n",
       "      <td>1879</td>\n",
       "      <td>3</td>\n",
       "    </tr>\n",
       "  </tbody>\n",
       "</table>\n",
       "</div>"
      ],
      "text/plain": [
       "                      Player  Mat  Runs     HS  Bat Av  100  Wkts  Bowl Av  5  \\\n",
       "player_id                                                                       \n",
       "1           T Armitage (ENG)    2    33   21.0   11.00    0     0      0.0  0   \n",
       "2          C Bannerman (AUS)    3   239  165.0   59.75    1     0      0.0  0   \n",
       "\n",
       "           Ct  St  Ave Diff  career_start  career_end  career_length  \n",
       "player_id                                                             \n",
       "1           0   0       0.0          1877        1877              1  \n",
       "2           0   0       0.0          1877        1879              3  "
      ]
     },
     "execution_count": 142,
     "metadata": {},
     "output_type": "execute_result"
    }
   ],
   "source": [
    "#Cricket players dataset\n",
    "\n",
    "players=pd.read_csv('../datasets/players.csv', index_col=\"player_id\")\n",
    "players.head(2)"
   ]
  },
  {
   "cell_type": "code",
   "execution_count": 144,
   "metadata": {},
   "outputs": [
    {
     "data": {
      "text/html": [
       "<div>\n",
       "<style scoped>\n",
       "    .dataframe tbody tr th:only-of-type {\n",
       "        vertical-align: middle;\n",
       "    }\n",
       "\n",
       "    .dataframe tbody tr th {\n",
       "        vertical-align: top;\n",
       "    }\n",
       "\n",
       "    .dataframe thead th {\n",
       "        text-align: right;\n",
       "    }\n",
       "</style>\n",
       "<table border=\"1\" class=\"dataframe\">\n",
       "  <thead>\n",
       "    <tr style=\"text-align: right;\">\n",
       "      <th></th>\n",
       "      <th>player</th>\n",
       "      <th>matches</th>\n",
       "      <th>runs</th>\n",
       "      <th>highest_score</th>\n",
       "      <th>batting_average</th>\n",
       "      <th>hundreds</th>\n",
       "      <th>wickets</th>\n",
       "      <th>bowling_average</th>\n",
       "      <th>five_wickets</th>\n",
       "      <th>catches</th>\n",
       "      <th>stumpings</th>\n",
       "      <th>ave_diff</th>\n",
       "      <th>career_start</th>\n",
       "      <th>career_end</th>\n",
       "      <th>career_length</th>\n",
       "    </tr>\n",
       "    <tr>\n",
       "      <th>player_id</th>\n",
       "      <th></th>\n",
       "      <th></th>\n",
       "      <th></th>\n",
       "      <th></th>\n",
       "      <th></th>\n",
       "      <th></th>\n",
       "      <th></th>\n",
       "      <th></th>\n",
       "      <th></th>\n",
       "      <th></th>\n",
       "      <th></th>\n",
       "      <th></th>\n",
       "      <th></th>\n",
       "      <th></th>\n",
       "      <th></th>\n",
       "    </tr>\n",
       "  </thead>\n",
       "  <tbody>\n",
       "    <tr>\n",
       "      <th>1</th>\n",
       "      <td>T Armitage (ENG)</td>\n",
       "      <td>2</td>\n",
       "      <td>33</td>\n",
       "      <td>21.0</td>\n",
       "      <td>11.00</td>\n",
       "      <td>0</td>\n",
       "      <td>0</td>\n",
       "      <td>0.0</td>\n",
       "      <td>0</td>\n",
       "      <td>0</td>\n",
       "      <td>0</td>\n",
       "      <td>0.0</td>\n",
       "      <td>1877</td>\n",
       "      <td>1877</td>\n",
       "      <td>1</td>\n",
       "    </tr>\n",
       "    <tr>\n",
       "      <th>2</th>\n",
       "      <td>C Bannerman (AUS)</td>\n",
       "      <td>3</td>\n",
       "      <td>239</td>\n",
       "      <td>165.0</td>\n",
       "      <td>59.75</td>\n",
       "      <td>1</td>\n",
       "      <td>0</td>\n",
       "      <td>0.0</td>\n",
       "      <td>0</td>\n",
       "      <td>0</td>\n",
       "      <td>0</td>\n",
       "      <td>0.0</td>\n",
       "      <td>1877</td>\n",
       "      <td>1879</td>\n",
       "      <td>3</td>\n",
       "    </tr>\n",
       "  </tbody>\n",
       "</table>\n",
       "</div>"
      ],
      "text/plain": [
       "                      player  matches  runs  highest_score  batting_average  \\\n",
       "player_id                                                                     \n",
       "1           T Armitage (ENG)        2    33           21.0            11.00   \n",
       "2          C Bannerman (AUS)        3   239          165.0            59.75   \n",
       "\n",
       "           hundreds  wickets  bowling_average  five_wickets  catches  \\\n",
       "player_id                                                              \n",
       "1                 0        0              0.0             0        0   \n",
       "2                 1        0              0.0             0        0   \n",
       "\n",
       "           stumpings  ave_diff  career_start  career_end  career_length  \n",
       "player_id                                                                \n",
       "1                  0       0.0          1877        1877              1  \n",
       "2                  0       0.0          1877        1879              3  "
      ]
     },
     "execution_count": 144,
     "metadata": {},
     "output_type": "execute_result"
    }
   ],
   "source": [
    "players.columns = ['player','matches','runs','highest_score','batting_average','hundreds','wickets','bowling_average',\n",
    "'five_wickets','catches','stumpings','ave_diff','career_start','career_end','career_length']\n",
    "players.head(2)"
   ]
  },
  {
   "cell_type": "code",
   "execution_count": 145,
   "metadata": {},
   "outputs": [
    {
     "data": {
      "text/html": [
       "<div>\n",
       "<style scoped>\n",
       "    .dataframe tbody tr th:only-of-type {\n",
       "        vertical-align: middle;\n",
       "    }\n",
       "\n",
       "    .dataframe tbody tr th {\n",
       "        vertical-align: top;\n",
       "    }\n",
       "\n",
       "    .dataframe thead th {\n",
       "        text-align: right;\n",
       "    }\n",
       "</style>\n",
       "<table border=\"1\" class=\"dataframe\">\n",
       "  <thead>\n",
       "    <tr style=\"text-align: right;\">\n",
       "      <th></th>\n",
       "      <th>Team</th>\n",
       "      <th>Result</th>\n",
       "      <th>Margin</th>\n",
       "      <th>Toss</th>\n",
       "      <th>Bat</th>\n",
       "      <th>Opposition</th>\n",
       "      <th>Ground</th>\n",
       "      <th>Start Date</th>\n",
       "      <th>Format</th>\n",
       "    </tr>\n",
       "  </thead>\n",
       "  <tbody>\n",
       "    <tr>\n",
       "      <th>0</th>\n",
       "      <td>Australia</td>\n",
       "      <td>won</td>\n",
       "      <td>45 runs</td>\n",
       "      <td>won</td>\n",
       "      <td>1st</td>\n",
       "      <td>England</td>\n",
       "      <td>Melbourne</td>\n",
       "      <td>1877-03-15</td>\n",
       "      <td>Test</td>\n",
       "    </tr>\n",
       "    <tr>\n",
       "      <th>1</th>\n",
       "      <td>England</td>\n",
       "      <td>lost</td>\n",
       "      <td>45 runs</td>\n",
       "      <td>lost</td>\n",
       "      <td>2nd</td>\n",
       "      <td>Australia</td>\n",
       "      <td>Melbourne</td>\n",
       "      <td>1877-03-15</td>\n",
       "      <td>Test</td>\n",
       "    </tr>\n",
       "  </tbody>\n",
       "</table>\n",
       "</div>"
      ],
      "text/plain": [
       "        Team Result   Margin  Toss  Bat Opposition     Ground  Start Date  \\\n",
       "0  Australia    won  45 runs   won  1st    England  Melbourne  1877-03-15   \n",
       "1    England   lost  45 runs  lost  2nd  Australia  Melbourne  1877-03-15   \n",
       "\n",
       "  Format  \n",
       "0   Test  \n",
       "1   Test  "
      ]
     },
     "execution_count": 145,
     "metadata": {},
     "output_type": "execute_result"
    }
   ],
   "source": [
    "#Cricket matches dataset\n",
    "\n",
    "matches=pd.read_csv('../datasets/matches.csv', index_col=\"Unnamed: 0\")\n",
    "matches.head(2)"
   ]
  },
  {
   "cell_type": "code",
   "execution_count": 146,
   "metadata": {},
   "outputs": [
    {
     "data": {
      "text/html": [
       "<div>\n",
       "<style scoped>\n",
       "    .dataframe tbody tr th:only-of-type {\n",
       "        vertical-align: middle;\n",
       "    }\n",
       "\n",
       "    .dataframe tbody tr th {\n",
       "        vertical-align: top;\n",
       "    }\n",
       "\n",
       "    .dataframe thead th {\n",
       "        text-align: right;\n",
       "    }\n",
       "</style>\n",
       "<table border=\"1\" class=\"dataframe\">\n",
       "  <thead>\n",
       "    <tr style=\"text-align: right;\">\n",
       "      <th></th>\n",
       "      <th>country</th>\n",
       "      <th>result</th>\n",
       "      <th>margin</th>\n",
       "      <th>toss</th>\n",
       "      <th>bat</th>\n",
       "      <th>opposition</th>\n",
       "      <th>ground</th>\n",
       "      <th>start_date</th>\n",
       "      <th>format</th>\n",
       "    </tr>\n",
       "    <tr>\n",
       "      <th>match_id</th>\n",
       "      <th></th>\n",
       "      <th></th>\n",
       "      <th></th>\n",
       "      <th></th>\n",
       "      <th></th>\n",
       "      <th></th>\n",
       "      <th></th>\n",
       "      <th></th>\n",
       "      <th></th>\n",
       "    </tr>\n",
       "  </thead>\n",
       "  <tbody>\n",
       "    <tr>\n",
       "      <th>0</th>\n",
       "      <td>Australia</td>\n",
       "      <td>won</td>\n",
       "      <td>45 runs</td>\n",
       "      <td>won</td>\n",
       "      <td>1st</td>\n",
       "      <td>England</td>\n",
       "      <td>Melbourne</td>\n",
       "      <td>1877-03-15</td>\n",
       "      <td>Test</td>\n",
       "    </tr>\n",
       "    <tr>\n",
       "      <th>1</th>\n",
       "      <td>England</td>\n",
       "      <td>lost</td>\n",
       "      <td>45 runs</td>\n",
       "      <td>lost</td>\n",
       "      <td>2nd</td>\n",
       "      <td>Australia</td>\n",
       "      <td>Melbourne</td>\n",
       "      <td>1877-03-15</td>\n",
       "      <td>Test</td>\n",
       "    </tr>\n",
       "  </tbody>\n",
       "</table>\n",
       "</div>"
      ],
      "text/plain": [
       "            country result   margin  toss  bat opposition     ground  \\\n",
       "match_id                                                               \n",
       "0         Australia    won  45 runs   won  1st    England  Melbourne   \n",
       "1           England   lost  45 runs  lost  2nd  Australia  Melbourne   \n",
       "\n",
       "          start_date format  \n",
       "match_id                     \n",
       "0         1877-03-15   Test  \n",
       "1         1877-03-15   Test  "
      ]
     },
     "execution_count": 146,
     "metadata": {},
     "output_type": "execute_result"
    }
   ],
   "source": [
    "matches.columns = ['country','result', 'margin','toss','bat','opposition','ground','start_date','format']\n",
    "matches.index.name='match_id'\n",
    "matches.head(2)"
   ]
  },
  {
   "cell_type": "code",
   "execution_count": 147,
   "metadata": {},
   "outputs": [
    {
     "data": {
      "text/html": [
       "<div>\n",
       "<style scoped>\n",
       "    .dataframe tbody tr th:only-of-type {\n",
       "        vertical-align: middle;\n",
       "    }\n",
       "\n",
       "    .dataframe tbody tr th {\n",
       "        vertical-align: top;\n",
       "    }\n",
       "\n",
       "    .dataframe thead th {\n",
       "        text-align: right;\n",
       "    }\n",
       "</style>\n",
       "<table border=\"1\" class=\"dataframe\">\n",
       "  <thead>\n",
       "    <tr style=\"text-align: right;\">\n",
       "      <th></th>\n",
       "      <th>year</th>\n",
       "      <th>population_total</th>\n",
       "      <th>gdp_per_capita</th>\n",
       "    </tr>\n",
       "    <tr>\n",
       "      <th>country</th>\n",
       "      <th></th>\n",
       "      <th></th>\n",
       "      <th></th>\n",
       "    </tr>\n",
       "  </thead>\n",
       "  <tbody>\n",
       "    <tr>\n",
       "      <th>Arab World</th>\n",
       "      <td>2018</td>\n",
       "      <td>419790591.0</td>\n",
       "      <td>6601.825189</td>\n",
       "    </tr>\n",
       "  </tbody>\n",
       "</table>\n",
       "</div>"
      ],
      "text/plain": [
       "            year  population_total  gdp_per_capita\n",
       "country                                           \n",
       "Arab World  2018       419790591.0     6601.825189"
      ]
     },
     "execution_count": 147,
     "metadata": {},
     "output_type": "execute_result"
    }
   ],
   "source": [
    "#Countries dataset\n",
    "\n",
    "countries=pd.read_csv('../datasets/countries.csv', index_col=\"country\")\n",
    "countries.head(1)"
   ]
  },
  {
   "cell_type": "code",
   "execution_count": 148,
   "metadata": {},
   "outputs": [
    {
     "data": {
      "text/html": [
       "<div>\n",
       "<style scoped>\n",
       "    .dataframe tbody tr th:only-of-type {\n",
       "        vertical-align: middle;\n",
       "    }\n",
       "\n",
       "    .dataframe tbody tr th {\n",
       "        vertical-align: top;\n",
       "    }\n",
       "\n",
       "    .dataframe thead th {\n",
       "        text-align: right;\n",
       "    }\n",
       "</style>\n",
       "<table border=\"1\" class=\"dataframe\">\n",
       "  <thead>\n",
       "    <tr style=\"text-align: right;\">\n",
       "      <th></th>\n",
       "      <th>year</th>\n",
       "      <th>population</th>\n",
       "      <th>gdpcapita</th>\n",
       "    </tr>\n",
       "    <tr>\n",
       "      <th>country</th>\n",
       "      <th></th>\n",
       "      <th></th>\n",
       "      <th></th>\n",
       "    </tr>\n",
       "  </thead>\n",
       "  <tbody>\n",
       "    <tr>\n",
       "      <th>Arab World</th>\n",
       "      <td>2018</td>\n",
       "      <td>419790591.0</td>\n",
       "      <td>6601.825189</td>\n",
       "    </tr>\n",
       "  </tbody>\n",
       "</table>\n",
       "</div>"
      ],
      "text/plain": [
       "            year   population    gdpcapita\n",
       "country                                   \n",
       "Arab World  2018  419790591.0  6601.825189"
      ]
     },
     "execution_count": 148,
     "metadata": {},
     "output_type": "execute_result"
    }
   ],
   "source": [
    "countries.columns = ['year','population','gdpcapita']\n",
    "countries.index.name='country'\n",
    "countries.head(1)"
   ]
  },
  {
   "cell_type": "code",
   "execution_count": 149,
   "metadata": {},
   "outputs": [
    {
     "data": {
      "text/html": [
       "<div>\n",
       "<style scoped>\n",
       "    .dataframe tbody tr th:only-of-type {\n",
       "        vertical-align: middle;\n",
       "    }\n",
       "\n",
       "    .dataframe tbody tr th {\n",
       "        vertical-align: top;\n",
       "    }\n",
       "\n",
       "    .dataframe thead th {\n",
       "        text-align: right;\n",
       "    }\n",
       "</style>\n",
       "<table border=\"1\" class=\"dataframe\">\n",
       "  <thead>\n",
       "    <tr style=\"text-align: right;\">\n",
       "      <th></th>\n",
       "      <th>player</th>\n",
       "      <th>country_short</th>\n",
       "    </tr>\n",
       "    <tr>\n",
       "      <th>player_id</th>\n",
       "      <th></th>\n",
       "      <th></th>\n",
       "    </tr>\n",
       "  </thead>\n",
       "  <tbody>\n",
       "    <tr>\n",
       "      <th>1</th>\n",
       "      <td>T Armitage (ENG)</td>\n",
       "      <td>ENG</td>\n",
       "    </tr>\n",
       "    <tr>\n",
       "      <th>2</th>\n",
       "      <td>C Bannerman (AUS)</td>\n",
       "      <td>AUS</td>\n",
       "    </tr>\n",
       "  </tbody>\n",
       "</table>\n",
       "</div>"
      ],
      "text/plain": [
       "                      player country_short\n",
       "player_id                                 \n",
       "1           T Armitage (ENG)           ENG\n",
       "2          C Bannerman (AUS)           AUS"
      ]
     },
     "execution_count": 149,
     "metadata": {},
     "output_type": "execute_result"
    }
   ],
   "source": [
    "#Player countries dataset\n",
    "\n",
    "playercountrymap=pd.read_csv('../datasets/player_country_map.csv', index_col=\"player_id\")\n",
    "playercountrymap.head(2)"
   ]
  },
  {
   "cell_type": "code",
   "execution_count": 150,
   "metadata": {},
   "outputs": [
    {
     "data": {
      "text/html": [
       "<div>\n",
       "<style scoped>\n",
       "    .dataframe tbody tr th:only-of-type {\n",
       "        vertical-align: middle;\n",
       "    }\n",
       "\n",
       "    .dataframe tbody tr th {\n",
       "        vertical-align: top;\n",
       "    }\n",
       "\n",
       "    .dataframe thead th {\n",
       "        text-align: right;\n",
       "    }\n",
       "</style>\n",
       "<table border=\"1\" class=\"dataframe\">\n",
       "  <thead>\n",
       "    <tr style=\"text-align: right;\">\n",
       "      <th></th>\n",
       "      <th>country</th>\n",
       "    </tr>\n",
       "    <tr>\n",
       "      <th>country_short</th>\n",
       "      <th></th>\n",
       "    </tr>\n",
       "  </thead>\n",
       "  <tbody>\n",
       "    <tr>\n",
       "      <th>AUS</th>\n",
       "      <td>Australia</td>\n",
       "    </tr>\n",
       "    <tr>\n",
       "      <th>INDIA</th>\n",
       "      <td>India</td>\n",
       "    </tr>\n",
       "  </tbody>\n",
       "</table>\n",
       "</div>"
      ],
      "text/plain": [
       "                 country\n",
       "country_short           \n",
       "AUS            Australia\n",
       "INDIA              India"
      ]
     },
     "execution_count": 150,
     "metadata": {},
     "output_type": "execute_result"
    }
   ],
   "source": [
    "#Country short codes dataset\n",
    "\n",
    "countrynamemap=pd.read_csv('../datasets/countrynamemap.csv', index_col=\"country_short\")\n",
    "countrynamemap.head(2)"
   ]
  },
  {
   "cell_type": "markdown",
   "metadata": {},
   "source": [
    "### - Creating Database"
   ]
  },
  {
   "cell_type": "code",
   "execution_count": 192,
   "metadata": {},
   "outputs": [],
   "source": [
    "#connecting to database\n",
    "\n",
    "%sql sqlite:///../datasets/cricket_rDB.db3"
   ]
  },
  {
   "cell_type": "code",
   "execution_count": 193,
   "metadata": {},
   "outputs": [
    {
     "name": "stdout",
     "output_type": "stream",
     "text": [
      "Done.\n"
     ]
    },
    {
     "data": {
      "text/plain": [
       "[]"
      ]
     },
     "execution_count": 193,
     "metadata": {},
     "output_type": "execute_result"
    }
   ],
   "source": [
    "#foreign key checking = on\n",
    "\n",
    "%sql sqlite:///../datasets/cricket_rDB.db3 PRAGMA foreign_keys = ON;"
   ]
  },
  {
   "cell_type": "markdown",
   "metadata": {},
   "source": [
    "Dropping any existing tables and creating five new tables in the database."
   ]
  },
  {
   "cell_type": "code",
   "execution_count": 158,
   "metadata": {},
   "outputs": [
    {
     "name": "stdout",
     "output_type": "stream",
     "text": [
      "Done.\n",
      "Done.\n",
      "Done.\n",
      "Done.\n",
      "Done.\n"
     ]
    },
    {
     "data": {
      "text/plain": [
       "[]"
      ]
     },
     "execution_count": 158,
     "metadata": {},
     "output_type": "execute_result"
    }
   ],
   "source": [
    "%%sql sqlite:///../datasets/cricket_rDB.db3\n",
    "\n",
    "DROP TABLE  IF EXISTS matches;\n",
    "DROP TABLE  IF EXISTS players;\n",
    "DROP TABLE  IF EXISTS countries;\n",
    "DROP TABLE  IF EXISTS countrynamemap;\n",
    "DROP TABLE  IF EXISTS playercountrymap;"
   ]
  },
  {
   "cell_type": "code",
   "execution_count": 159,
   "metadata": {},
   "outputs": [
    {
     "name": "stdout",
     "output_type": "stream",
     "text": [
      "Done.\n",
      "Done.\n",
      "Done.\n",
      "Done.\n"
     ]
    },
    {
     "data": {
      "text/html": [
       "<table>\n",
       "    <tr>\n",
       "        <th>country</th>\n",
       "        <th>year</th>\n",
       "        <th>population</th>\n",
       "        <th>gdpcapita</th>\n",
       "    </tr>\n",
       "</table>"
      ],
      "text/plain": [
       "[]"
      ]
     },
     "execution_count": 159,
     "metadata": {},
     "output_type": "execute_result"
    }
   ],
   "source": [
    "%%sql sqlite:///../datasets/cricket_rDB.db3\n",
    "    \n",
    "DROP TABLE  IF EXISTS countries;\n",
    "\n",
    "CREATE TABLE countries(\n",
    "    country VARCHAR(50) NOT NULL,\n",
    "    year INTEGER NOT NULL,  \n",
    "    population INTEGER NOT NULL, \n",
    "    gdpcapita DECIMAL(10,5),\n",
    "    PRIMARY KEY (country)\n",
    ");\n",
    "\n",
    "CREATE INDEX ix_countries_country ON countries(country);\n",
    "SELECT * FROM countries"
   ]
  },
  {
   "cell_type": "markdown",
   "metadata": {},
   "source": [
    "Matches table:"
   ]
  },
  {
   "cell_type": "code",
   "execution_count": 160,
   "metadata": {},
   "outputs": [
    {
     "name": "stdout",
     "output_type": "stream",
     "text": [
      "Done.\n",
      "Done.\n",
      "Done.\n",
      "Done.\n"
     ]
    },
    {
     "data": {
      "text/html": [
       "<table>\n",
       "    <tr>\n",
       "        <th>match_id</th>\n",
       "        <th>country</th>\n",
       "        <th>result</th>\n",
       "        <th>margin</th>\n",
       "        <th>toss</th>\n",
       "        <th>bat</th>\n",
       "        <th>opposition</th>\n",
       "        <th>ground</th>\n",
       "        <th>start_date</th>\n",
       "        <th>format</th>\n",
       "    </tr>\n",
       "</table>"
      ],
      "text/plain": [
       "[]"
      ]
     },
     "execution_count": 160,
     "metadata": {},
     "output_type": "execute_result"
    }
   ],
   "source": [
    "%%sql sqlite:///../datasets/cricket_rDB.db3\n",
    "    \n",
    "DROP TABLE  IF EXISTS matches;\n",
    "\n",
    "CREATE TABLE matches(\n",
    "    match_id VARCHAR(50) NOT NULL,\n",
    "    country VARCHAR(50) NOT NULL,  \n",
    "    result VARCHAR(10) NOT NULL, \n",
    "    margin VARCHAR(50),\n",
    "    toss VARCHAR(10) NOT NULL,  \n",
    "    bat VARCHAR(10) NOT NULL,\n",
    "    opposition VARCHAR(50) NOT NULL,\n",
    "    ground VARCHAR(50) NOT NULL,  \n",
    "    start_date DATE NOT NULL,\n",
    "    format VARCHAR(10) NOT NULL,\n",
    "    PRIMARY KEY (match_id)\n",
    "    FOREIGN KEY (country) REFERENCES countries(country)\n",
    ");\n",
    "\n",
    "CREATE INDEX ix_matches_match_id ON matches (match_id);\n",
    "SELECT * FROM matches"
   ]
  },
  {
   "cell_type": "markdown",
   "metadata": {},
   "source": [
    "Countrynamemap table:"
   ]
  },
  {
   "cell_type": "code",
   "execution_count": 161,
   "metadata": {},
   "outputs": [
    {
     "name": "stdout",
     "output_type": "stream",
     "text": [
      "Done.\n",
      "Done.\n",
      "Done.\n",
      "Done.\n"
     ]
    },
    {
     "data": {
      "text/html": [
       "<table>\n",
       "    <tr>\n",
       "        <th>country_short</th>\n",
       "        <th>country</th>\n",
       "    </tr>\n",
       "</table>"
      ],
      "text/plain": [
       "[]"
      ]
     },
     "execution_count": 161,
     "metadata": {},
     "output_type": "execute_result"
    }
   ],
   "source": [
    "%%sql sqlite:///../datasets/cricket_rDB.db3\n",
    "    \n",
    "DROP TABLE  IF EXISTS countrynamemap;\n",
    "\n",
    "CREATE TABLE countrynamemap(\n",
    "    country_short VARCHAR(10) NOT NULL,\n",
    "    country VARCHAR(50) NOT NULL, \n",
    "    PRIMARY KEY (country_short)\n",
    "    FOREIGN KEY (country) REFERENCES countries(country)\n",
    ");\n",
    "\n",
    "CREATE INDEX ix_countrynamemap_country ON countrynamemap(country);\n",
    "SELECT * FROM countrynamemap"
   ]
  },
  {
   "cell_type": "markdown",
   "metadata": {},
   "source": [
    "Playercountrymap table:"
   ]
  },
  {
   "cell_type": "code",
   "execution_count": 162,
   "metadata": {},
   "outputs": [
    {
     "name": "stdout",
     "output_type": "stream",
     "text": [
      "Done.\n",
      "Done.\n",
      "Done.\n",
      "Done.\n"
     ]
    },
    {
     "data": {
      "text/html": [
       "<table>\n",
       "    <tr>\n",
       "        <th>player_id</th>\n",
       "        <th>player</th>\n",
       "        <th>country_short</th>\n",
       "    </tr>\n",
       "</table>"
      ],
      "text/plain": [
       "[]"
      ]
     },
     "execution_count": 162,
     "metadata": {},
     "output_type": "execute_result"
    }
   ],
   "source": [
    "%%sql sqlite:///../datasets/cricket_rDB.db3\n",
    "    \n",
    "DROP TABLE  IF EXISTS playercountrymap;\n",
    "\n",
    "CREATE TABLE playercountrymap(\n",
    "    player_id INTEGER NOT NULL,\n",
    "    player VARCHAR(50) NOT NULL,\n",
    "    country_short VARCHAR(10) NOT NULL, \n",
    "    PRIMARY KEY (player_id)\n",
    "    FOREIGN KEY (country_short) REFERENCES countrynamemap(country)\n",
    ");\n",
    "\n",
    "CREATE INDEX ix_playercountrymap_player_id ON playercountrymap(player_id);\n",
    "SELECT * FROM playercountrymap"
   ]
  },
  {
   "cell_type": "markdown",
   "metadata": {},
   "source": [
    "Players table:"
   ]
  },
  {
   "cell_type": "code",
   "execution_count": 163,
   "metadata": {},
   "outputs": [
    {
     "name": "stdout",
     "output_type": "stream",
     "text": [
      "Done.\n",
      "Done.\n",
      "Done.\n",
      "Done.\n"
     ]
    },
    {
     "data": {
      "text/html": [
       "<table>\n",
       "    <tr>\n",
       "        <th>player_id</th>\n",
       "        <th>player</th>\n",
       "        <th>matches</th>\n",
       "        <th>runs</th>\n",
       "        <th>highest_score</th>\n",
       "        <th>batting_average</th>\n",
       "        <th>hundreds</th>\n",
       "        <th>wickets</th>\n",
       "        <th>bowling_average</th>\n",
       "        <th>five_wickets</th>\n",
       "        <th>catches</th>\n",
       "        <th>stumpings</th>\n",
       "        <th>ave_diff</th>\n",
       "        <th>career_start</th>\n",
       "        <th>career_end</th>\n",
       "        <th>career_length</th>\n",
       "    </tr>\n",
       "</table>"
      ],
      "text/plain": [
       "[]"
      ]
     },
     "execution_count": 163,
     "metadata": {},
     "output_type": "execute_result"
    }
   ],
   "source": [
    "%%sql sqlite:///../datasets/cricket_rDB.db3\n",
    "    \n",
    "DROP TABLE  IF EXISTS players;\n",
    "\n",
    "CREATE TABLE players(\n",
    "    player_id INTEGER NOT NULL,\n",
    "    player VARCHAR(50) NOT NULL,\n",
    "    matches INTEGER NOT NULL,  \n",
    "    runs INTEGER NOT NULL, \n",
    "    highest_score INTEGER,\n",
    "    batting_average DECIMAL(10,5) NOT NULL,  \n",
    "    hundreds INTEGER NOT NULL,\n",
    "    wickets INTEGER NOT NULL,\n",
    "    bowling_average DECIMAL(10,5) NOT NULL,  \n",
    "    five_wickets INTEGER NOT NULL,\n",
    "    catches INTEGER NOT NULL,\n",
    "    stumpings INTEGER NOT NULL,  \n",
    "    ave_diff DECIMAL(10,5) NOT NULL,\n",
    "    career_start INTEGER NOT NULL,\n",
    "    career_end INTEGER NOT NULL,\n",
    "    career_length INTEGER NOT NULL,\n",
    "    PRIMARY KEY (player_id)\n",
    "    FOREIGN KEY (player_id) REFERENCES playercountrymap(player_id)\n",
    ");\n",
    "\n",
    "CREATE INDEX ix_players_player_id ON players (player_id);\n",
    "SELECT * FROM players"
   ]
  },
  {
   "cell_type": "markdown",
   "metadata": {},
   "source": [
    "Checking foreign keys are being picked up fine:"
   ]
  },
  {
   "cell_type": "code",
   "execution_count": 195,
   "metadata": {},
   "outputs": [
    {
     "name": "stdout",
     "output_type": "stream",
     "text": [
      "Done.\n"
     ]
    },
    {
     "data": {
      "text/html": [
       "<table>\n",
       "    <tr>\n",
       "        <th>foreign_keys</th>\n",
       "    </tr>\n",
       "    <tr>\n",
       "        <td>1</td>\n",
       "    </tr>\n",
       "</table>"
      ],
      "text/plain": [
       "[(1,)]"
      ]
     },
     "execution_count": 195,
     "metadata": {},
     "output_type": "execute_result"
    }
   ],
   "source": [
    "%sql sqlite:///../datasets/cricket_rDB.db3 PRAGMA foreign_keys"
   ]
  },
  {
   "cell_type": "markdown",
   "metadata": {},
   "source": [
    "Checking if the database contains the created tables:"
   ]
  },
  {
   "cell_type": "code",
   "execution_count": 196,
   "metadata": {},
   "outputs": [
    {
     "name": "stdout",
     "output_type": "stream",
     "text": [
      " * sqlite:///../datasets/cricket_rDB.db3\n",
      "Done.\n"
     ]
    },
    {
     "data": {
      "text/html": [
       "<table>\n",
       "    <tr>\n",
       "        <th>name</th>\n",
       "    </tr>\n",
       "    <tr>\n",
       "        <td>countries</td>\n",
       "    </tr>\n",
       "    <tr>\n",
       "        <td>matches</td>\n",
       "    </tr>\n",
       "    <tr>\n",
       "        <td>countrynamemap</td>\n",
       "    </tr>\n",
       "    <tr>\n",
       "        <td>playercountrymap</td>\n",
       "    </tr>\n",
       "    <tr>\n",
       "        <td>players</td>\n",
       "    </tr>\n",
       "</table>"
      ],
      "text/plain": [
       "[('countries',),\n",
       " ('matches',),\n",
       " ('countrynamemap',),\n",
       " ('playercountrymap',),\n",
       " ('players',)]"
      ]
     },
     "execution_count": 196,
     "metadata": {},
     "output_type": "execute_result"
    }
   ],
   "source": [
    "%sql SELECT name FROM sqlite_master WHERE type='table'"
   ]
  },
  {
   "cell_type": "markdown",
   "metadata": {},
   "source": [
    "### - Populating Database with Imported Data"
   ]
  },
  {
   "cell_type": "markdown",
   "metadata": {},
   "source": [
    "Opening connection to the database using Python:"
   ]
  },
  {
   "cell_type": "code",
   "execution_count": 165,
   "metadata": {},
   "outputs": [],
   "source": [
    "connection = sqlite3.connect('../datasets/cricket_rDB.db3')"
   ]
  },
  {
   "cell_type": "markdown",
   "metadata": {},
   "source": [
    "Writing imported data to SQL tables:"
   ]
  },
  {
   "cell_type": "code",
   "execution_count": 166,
   "metadata": {},
   "outputs": [],
   "source": [
    "players.to_sql('players', connection, if_exists='append',)\n",
    "connection.commit()"
   ]
  },
  {
   "cell_type": "code",
   "execution_count": 167,
   "metadata": {},
   "outputs": [],
   "source": [
    "matches.to_sql('matches', connection, if_exists='append',)\n",
    "connection.commit()"
   ]
  },
  {
   "cell_type": "code",
   "execution_count": 168,
   "metadata": {},
   "outputs": [],
   "source": [
    "countries.to_sql('countries', connection, if_exists='append',)\n",
    "connection.commit()"
   ]
  },
  {
   "cell_type": "code",
   "execution_count": 169,
   "metadata": {},
   "outputs": [],
   "source": [
    "playercountrymap.to_sql('playercountrymap', connection, if_exists='append',)\n",
    "connection.commit()"
   ]
  },
  {
   "cell_type": "code",
   "execution_count": 170,
   "metadata": {},
   "outputs": [],
   "source": [
    "countrynamemap.to_sql('countrynamemap', connection, if_exists='append',)\n",
    "connection.commit()"
   ]
  },
  {
   "cell_type": "markdown",
   "metadata": {},
   "source": [
    "Checking if the database tables are populated with data:"
   ]
  },
  {
   "cell_type": "code",
   "execution_count": 180,
   "metadata": {},
   "outputs": [
    {
     "name": "stdout",
     "output_type": "stream",
     "text": [
      "Done.\n"
     ]
    },
    {
     "data": {
      "text/html": [
       "<table>\n",
       "    <tr>\n",
       "        <th>player_id</th>\n",
       "        <th>player</th>\n",
       "        <th>matches</th>\n",
       "        <th>runs</th>\n",
       "        <th>highest_score</th>\n",
       "        <th>batting_average</th>\n",
       "        <th>hundreds</th>\n",
       "        <th>wickets</th>\n",
       "        <th>bowling_average</th>\n",
       "        <th>five_wickets</th>\n",
       "        <th>catches</th>\n",
       "        <th>stumpings</th>\n",
       "        <th>ave_diff</th>\n",
       "        <th>career_start</th>\n",
       "        <th>career_end</th>\n",
       "        <th>career_length</th>\n",
       "    </tr>\n",
       "    <tr>\n",
       "        <td>1</td>\n",
       "        <td>T Armitage (ENG)</td>\n",
       "        <td>2</td>\n",
       "        <td>33</td>\n",
       "        <td>21</td>\n",
       "        <td>11</td>\n",
       "        <td>0</td>\n",
       "        <td>0</td>\n",
       "        <td>0</td>\n",
       "        <td>0</td>\n",
       "        <td>0</td>\n",
       "        <td>0</td>\n",
       "        <td>0</td>\n",
       "        <td>1877</td>\n",
       "        <td>1877</td>\n",
       "        <td>1</td>\n",
       "    </tr>\n",
       "    <tr>\n",
       "        <td>2</td>\n",
       "        <td>C Bannerman (AUS)</td>\n",
       "        <td>3</td>\n",
       "        <td>239</td>\n",
       "        <td>165</td>\n",
       "        <td>59.75</td>\n",
       "        <td>1</td>\n",
       "        <td>0</td>\n",
       "        <td>0</td>\n",
       "        <td>0</td>\n",
       "        <td>0</td>\n",
       "        <td>0</td>\n",
       "        <td>0</td>\n",
       "        <td>1877</td>\n",
       "        <td>1879</td>\n",
       "        <td>3</td>\n",
       "    </tr>\n",
       "</table>"
      ],
      "text/plain": [
       "[(1, 'T Armitage (ENG)', 2, 33, 21, 11, 0, 0, 0, 0, 0, 0, 0, 1877, 1877, 1),\n",
       " (2, 'C Bannerman (AUS)', 3, 239, 165, 59.75, 1, 0, 0, 0, 0, 0, 0, 1877, 1879, 3)]"
      ]
     },
     "execution_count": 180,
     "metadata": {},
     "output_type": "execute_result"
    }
   ],
   "source": [
    "%%sql sqlite:///../datasets/cricket_rDB.db3\n",
    "    \n",
    "SELECT * FROM players LIMIT 2"
   ]
  },
  {
   "cell_type": "code",
   "execution_count": 181,
   "metadata": {},
   "outputs": [
    {
     "name": "stdout",
     "output_type": "stream",
     "text": [
      "Done.\n"
     ]
    },
    {
     "data": {
      "text/html": [
       "<table>\n",
       "    <tr>\n",
       "        <th>match_id</th>\n",
       "        <th>country</th>\n",
       "        <th>result</th>\n",
       "        <th>margin</th>\n",
       "        <th>toss</th>\n",
       "        <th>bat</th>\n",
       "        <th>opposition</th>\n",
       "        <th>ground</th>\n",
       "        <th>start_date</th>\n",
       "        <th>format</th>\n",
       "    </tr>\n",
       "    <tr>\n",
       "        <td>0</td>\n",
       "        <td>Australia</td>\n",
       "        <td>won</td>\n",
       "        <td>45 runs</td>\n",
       "        <td>won</td>\n",
       "        <td>1st</td>\n",
       "        <td>England</td>\n",
       "        <td>Melbourne</td>\n",
       "        <td>1877-03-15</td>\n",
       "        <td>Test</td>\n",
       "    </tr>\n",
       "    <tr>\n",
       "        <td>1</td>\n",
       "        <td>England</td>\n",
       "        <td>lost</td>\n",
       "        <td>45 runs</td>\n",
       "        <td>lost</td>\n",
       "        <td>2nd</td>\n",
       "        <td>Australia</td>\n",
       "        <td>Melbourne</td>\n",
       "        <td>1877-03-15</td>\n",
       "        <td>Test</td>\n",
       "    </tr>\n",
       "</table>"
      ],
      "text/plain": [
       "[('0', 'Australia', 'won', '45 runs', 'won', '1st', 'England', 'Melbourne', '1877-03-15', 'Test'),\n",
       " ('1', 'England', 'lost', '45 runs', 'lost', '2nd', 'Australia', 'Melbourne', '1877-03-15', 'Test')]"
      ]
     },
     "execution_count": 181,
     "metadata": {},
     "output_type": "execute_result"
    }
   ],
   "source": [
    "%%sql sqlite:///../datasets/cricket_rDB.db3\n",
    "    \n",
    "SELECT * FROM matches LIMIT 2"
   ]
  },
  {
   "cell_type": "code",
   "execution_count": 182,
   "metadata": {},
   "outputs": [
    {
     "name": "stdout",
     "output_type": "stream",
     "text": [
      "Done.\n"
     ]
    },
    {
     "data": {
      "text/html": [
       "<table>\n",
       "    <tr>\n",
       "        <th>country</th>\n",
       "        <th>year</th>\n",
       "        <th>population</th>\n",
       "        <th>gdpcapita</th>\n",
       "    </tr>\n",
       "    <tr>\n",
       "        <td>Arab World</td>\n",
       "        <td>2018</td>\n",
       "        <td>419790591</td>\n",
       "        <td>6601.825189</td>\n",
       "    </tr>\n",
       "    <tr>\n",
       "        <td>Caribbean small states</td>\n",
       "        <td>2018</td>\n",
       "        <td>7358958</td>\n",
       "        <td>10187.212309999999</td>\n",
       "    </tr>\n",
       "</table>"
      ],
      "text/plain": [
       "[('Arab World', 2018, 419790591, 6601.825189),\n",
       " ('Caribbean small states', 2018, 7358958, 10187.212309999999)]"
      ]
     },
     "execution_count": 182,
     "metadata": {},
     "output_type": "execute_result"
    }
   ],
   "source": [
    "%%sql sqlite:///../datasets/cricket_rDB.db3\n",
    "    \n",
    "SELECT * FROM countries LIMIT 2"
   ]
  },
  {
   "cell_type": "code",
   "execution_count": 183,
   "metadata": {},
   "outputs": [
    {
     "name": "stdout",
     "output_type": "stream",
     "text": [
      "Done.\n"
     ]
    },
    {
     "data": {
      "text/html": [
       "<table>\n",
       "    <tr>\n",
       "        <th>country_short</th>\n",
       "        <th>country</th>\n",
       "    </tr>\n",
       "    <tr>\n",
       "        <td>AUS</td>\n",
       "        <td>Australia</td>\n",
       "    </tr>\n",
       "    <tr>\n",
       "        <td>INDIA</td>\n",
       "        <td>India</td>\n",
       "    </tr>\n",
       "</table>"
      ],
      "text/plain": [
       "[('AUS', 'Australia'), ('INDIA', 'India')]"
      ]
     },
     "execution_count": 183,
     "metadata": {},
     "output_type": "execute_result"
    }
   ],
   "source": [
    "%%sql sqlite:///../datasets/cricket_rDB.db3\n",
    "    \n",
    "SELECT * FROM countrynamemap LIMIT 2"
   ]
  },
  {
   "cell_type": "code",
   "execution_count": 191,
   "metadata": {},
   "outputs": [
    {
     "name": "stdout",
     "output_type": "stream",
     "text": [
      "Done.\n"
     ]
    },
    {
     "data": {
      "text/html": [
       "<table>\n",
       "    <tr>\n",
       "        <th>player_id</th>\n",
       "        <th>player</th>\n",
       "        <th>country_short</th>\n",
       "    </tr>\n",
       "    <tr>\n",
       "        <td>1</td>\n",
       "        <td>T Armitage (ENG)</td>\n",
       "        <td>ENG</td>\n",
       "    </tr>\n",
       "    <tr>\n",
       "        <td>2</td>\n",
       "        <td>C Bannerman (AUS)</td>\n",
       "        <td>AUS</td>\n",
       "    </tr>\n",
       "</table>"
      ],
      "text/plain": [
       "[(1, 'T Armitage (ENG)', 'ENG'), (2, 'C Bannerman (AUS)', 'AUS')]"
      ]
     },
     "execution_count": 191,
     "metadata": {},
     "output_type": "execute_result"
    }
   ],
   "source": [
    "%%sql sqlite:///../datasets/cricket_rDB.db3\n",
    "    \n",
    "SELECT * FROM playercountrymap LIMIT 2"
   ]
  },
  {
   "cell_type": "markdown",
   "metadata": {},
   "source": [
    "### - Sample Queries and Visualizations"
   ]
  },
  {
   "cell_type": "markdown",
   "metadata": {},
   "source": [
    "Average number of runs, wickets, and catches across all Cricket players:"
   ]
  },
  {
   "cell_type": "code",
   "execution_count": 207,
   "metadata": {},
   "outputs": [
    {
     "name": "stdout",
     "output_type": "stream",
     "text": [
      " * sqlite:///../datasets/cricket_rDB.db3\n",
      "Done.\n"
     ]
    },
    {
     "data": {
      "text/html": [
       "<table>\n",
       "    <tr>\n",
       "        <th>AvgRuns</th>\n",
       "        <th>AvgWickets</th>\n",
       "        <th>AvgCatches</th>\n",
       "    </tr>\n",
       "    <tr>\n",
       "        <td>819.4611659887662</td>\n",
       "        <td>26.844663955064885</td>\n",
       "        <td>16.510362192523726</td>\n",
       "    </tr>\n",
       "</table>"
      ],
      "text/plain": [
       "[(819.4611659887662, 26.844663955064885, 16.510362192523726)]"
      ]
     },
     "execution_count": 207,
     "metadata": {},
     "output_type": "execute_result"
    }
   ],
   "source": [
    "%%sql \n",
    "\n",
    "SELECT AVG(runs) as AvgRuns, \n",
    "       AVG(wickets) as AvgWickets, \n",
    "       AVG(catches) as AvgCatches\n",
    "FROM players"
   ]
  },
  {
   "cell_type": "markdown",
   "metadata": {},
   "source": [
    "Top 10 players by number of runs scored:"
   ]
  },
  {
   "cell_type": "code",
   "execution_count": 104,
   "metadata": {},
   "outputs": [
    {
     "name": "stdout",
     "output_type": "stream",
     "text": [
      " * sqlite:///../datasets/cricket_rDB.db3\n",
      "Done.\n"
     ]
    },
    {
     "data": {
      "text/html": [
       "<table>\n",
       "    <tr>\n",
       "        <th>player</th>\n",
       "        <th>runs</th>\n",
       "    </tr>\n",
       "    <tr>\n",
       "        <td>SR Tendulkar (INDIA)</td>\n",
       "        <td>34357</td>\n",
       "    </tr>\n",
       "    <tr>\n",
       "        <td>KC Sangakkara (Asia/ICC/SL)</td>\n",
       "        <td>28016</td>\n",
       "    </tr>\n",
       "    <tr>\n",
       "        <td>RT Ponting (AUS/ICC)</td>\n",
       "        <td>27483</td>\n",
       "    </tr>\n",
       "    <tr>\n",
       "        <td>DPMD Jayawardene (Asia/SL)</td>\n",
       "        <td>25957</td>\n",
       "    </tr>\n",
       "    <tr>\n",
       "        <td>JH Kallis (Afr/ICC/SA)</td>\n",
       "        <td>25534</td>\n",
       "    </tr>\n",
       "    <tr>\n",
       "        <td>R Dravid (Asia/ICC/INDIA)</td>\n",
       "        <td>24208</td>\n",
       "    </tr>\n",
       "    <tr>\n",
       "        <td>V Kohli (INDIA)</td>\n",
       "        <td>22369</td>\n",
       "    </tr>\n",
       "    <tr>\n",
       "        <td>BC Lara (ICC/WI)</td>\n",
       "        <td>22358</td>\n",
       "    </tr>\n",
       "    <tr>\n",
       "        <td>ST Jayasuriya (Asia/SL)</td>\n",
       "        <td>21032</td>\n",
       "    </tr>\n",
       "    <tr>\n",
       "        <td>S Chanderpaul (WI)</td>\n",
       "        <td>20988</td>\n",
       "    </tr>\n",
       "</table>"
      ],
      "text/plain": [
       "[('SR Tendulkar (INDIA)', 34357),\n",
       " ('KC Sangakkara (Asia/ICC/SL)', 28016),\n",
       " ('RT Ponting (AUS/ICC)', 27483),\n",
       " ('DPMD Jayawardene (Asia/SL)', 25957),\n",
       " ('JH Kallis (Afr/ICC/SA)', 25534),\n",
       " ('R Dravid (Asia/ICC/INDIA)', 24208),\n",
       " ('V Kohli (INDIA)', 22369),\n",
       " ('BC Lara (ICC/WI)', 22358),\n",
       " ('ST Jayasuriya (Asia/SL)', 21032),\n",
       " ('S Chanderpaul (WI)', 20988)]"
      ]
     },
     "execution_count": 104,
     "metadata": {},
     "output_type": "execute_result"
    }
   ],
   "source": [
    "%%sql\n",
    "\n",
    "SELECT player, runs\n",
    "FROM players \n",
    "ORDER BY runs DESC LIMIT 10"
   ]
  },
  {
   "cell_type": "markdown",
   "metadata": {},
   "source": [
    "Plotting the above query:"
   ]
  },
  {
   "cell_type": "code",
   "execution_count": 111,
   "metadata": {},
   "outputs": [
    {
     "name": "stdout",
     "output_type": "stream",
     "text": [
      " * sqlite:///../datasets/cricket_rDB.db3\n",
      "Done.\n",
      "Returning data to local variable plot1df\n"
     ]
    }
   ],
   "source": [
    "%%sql plot1df <<\n",
    "\n",
    "SELECT player, runs\n",
    "FROM players \n",
    "ORDER BY runs DESC LIMIT 15"
   ]
  },
  {
   "cell_type": "code",
   "execution_count": 119,
   "metadata": {},
   "outputs": [
    {
     "data": {
      "text/plain": [
       "Text(0.5, 1.0, 'Top Players by Number of Runs Scored')"
      ]
     },
     "execution_count": 119,
     "metadata": {},
     "output_type": "execute_result"
    },
    {
     "data": {
      "image/png": "[encoded data removed]",
      "text/plain": [
       "<Figure size 1008x576 with 1 Axes>"
      ]
     },
     "metadata": {},
     "output_type": "display_data"
    }
   ],
   "source": [
    "plot1 = plot1df.DataFrame()\n",
    "plot1 = plot1.set_index('player')\n",
    "ax = plot1.sort_values(by=\"runs\", ascending=True).plot(kind=\"barh\",color=\"#33bb77\",legend=False)\n",
    "addbarhlabels(ax)\n",
    "noborders(ax)\n",
    "plt.xticks([])\n",
    "plt.ylabel(\"\")\n",
    "plt.title(\"Top Players by Number of Runs Scored\", size=16)"
   ]
  },
  {
   "cell_type": "markdown",
   "metadata": {},
   "source": [
    "Top 10 players by number of runs scored:"
   ]
  },
  {
   "cell_type": "code",
   "execution_count": 108,
   "metadata": {},
   "outputs": [
    {
     "name": "stdout",
     "output_type": "stream",
     "text": [
      " * sqlite:///../datasets/cricket_rDB.db3\n",
      "Done.\n"
     ]
    },
    {
     "data": {
      "text/html": [
       "<table>\n",
       "    <tr>\n",
       "        <th>player</th>\n",
       "        <th>wickets</th>\n",
       "    </tr>\n",
       "    <tr>\n",
       "        <td>M Muralitharan (Asia/ICC/SL)</td>\n",
       "        <td>1347</td>\n",
       "    </tr>\n",
       "    <tr>\n",
       "        <td>SK Warne (AUS/ICC)</td>\n",
       "        <td>1001</td>\n",
       "    </tr>\n",
       "    <tr>\n",
       "        <td>A Kumble (Asia/INDIA)</td>\n",
       "        <td>956</td>\n",
       "    </tr>\n",
       "    <tr>\n",
       "        <td>GD McGrath (AUS/ICC)</td>\n",
       "        <td>949</td>\n",
       "    </tr>\n",
       "    <tr>\n",
       "        <td>Wasim Akram (PAK)</td>\n",
       "        <td>916</td>\n",
       "    </tr>\n",
       "    <tr>\n",
       "        <td>JM Anderson (ENG)</td>\n",
       "        <td>898</td>\n",
       "    </tr>\n",
       "    <tr>\n",
       "        <td>SM Pollock (Afr/ICC/SA)</td>\n",
       "        <td>829</td>\n",
       "    </tr>\n",
       "    <tr>\n",
       "        <td>Waqar Younis (PAK)</td>\n",
       "        <td>789</td>\n",
       "    </tr>\n",
       "    <tr>\n",
       "        <td>WPUJC Vaas (Asia/SL)</td>\n",
       "        <td>761</td>\n",
       "    </tr>\n",
       "    <tr>\n",
       "        <td>SCJ Broad (ENG)</td>\n",
       "        <td>760</td>\n",
       "    </tr>\n",
       "</table>"
      ],
      "text/plain": [
       "[('M Muralitharan (Asia/ICC/SL)', 1347),\n",
       " ('SK Warne (AUS/ICC)', 1001),\n",
       " ('A Kumble (Asia/INDIA)', 956),\n",
       " ('GD McGrath (AUS/ICC)', 949),\n",
       " ('Wasim Akram (PAK)', 916),\n",
       " ('JM Anderson (ENG)', 898),\n",
       " ('SM Pollock (Afr/ICC/SA)', 829),\n",
       " ('Waqar Younis (PAK)', 789),\n",
       " ('WPUJC Vaas (Asia/SL)', 761),\n",
       " ('SCJ Broad (ENG)', 760)]"
      ]
     },
     "execution_count": 108,
     "metadata": {},
     "output_type": "execute_result"
    }
   ],
   "source": [
    "%%sql \n",
    "\n",
    "SELECT player, wickets\n",
    "FROM players \n",
    "ORDER BY wickets DESC LIMIT 10"
   ]
  },
  {
   "cell_type": "markdown",
   "metadata": {},
   "source": [
    "Plotting the above query:"
   ]
  },
  {
   "cell_type": "code",
   "execution_count": 117,
   "metadata": {},
   "outputs": [
    {
     "name": "stdout",
     "output_type": "stream",
     "text": [
      " * sqlite:///../datasets/cricket_rDB.db3\n",
      "Done.\n",
      "Returning data to local variable plot2df\n"
     ]
    }
   ],
   "source": [
    "%%sql plot2df <<\n",
    "\n",
    "SELECT player, wickets\n",
    "FROM players \n",
    "ORDER BY wickets DESC LIMIT 15"
   ]
  },
  {
   "cell_type": "code",
   "execution_count": 121,
   "metadata": {},
   "outputs": [
    {
     "data": {
      "text/plain": [
       "Text(0.5, 1.0, 'Top Players by Number of Wickets Taken')"
      ]
     },
     "execution_count": 121,
     "metadata": {},
     "output_type": "execute_result"
    },
    {
     "data": {
      "image/png": "[encoded data removed]",
      "text/plain": [
       "<Figure size 1008x576 with 1 Axes>"
      ]
     },
     "metadata": {},
     "output_type": "display_data"
    }
   ],
   "source": [
    "plot2 = plot2df.DataFrame()\n",
    "plot2 = plot2.set_index('player')\n",
    "ax = plot2.sort_values(by=\"wickets\", ascending=True).plot(kind=\"barh\",color=\"#33bb77\",legend=False)\n",
    "addbarhlabels(ax)\n",
    "noborders(ax)\n",
    "plt.xticks([])\n",
    "plt.ylabel(\"\")\n",
    "plt.title(\"Top Players by Number of Wickets Taken\", size=16)"
   ]
  },
  {
   "cell_type": "markdown",
   "metadata": {},
   "source": [
    "Cricket Grounds with the most number of matches played:"
   ]
  },
  {
   "cell_type": "code",
   "execution_count": 24,
   "metadata": {},
   "outputs": [
    {
     "name": "stdout",
     "output_type": "stream",
     "text": [
      "Done.\n"
     ]
    },
    {
     "data": {
      "text/html": [
       "<table>\n",
       "    <tr>\n",
       "        <th>ground</th>\n",
       "        <th>TotalMatchesPlayed</th>\n",
       "    </tr>\n",
       "    <tr>\n",
       "        <td>Sharjah</td>\n",
       "        <td>518</td>\n",
       "    </tr>\n",
       "    <tr>\n",
       "        <td>Melbourne</td>\n",
       "        <td>506</td>\n",
       "    </tr>\n",
       "    <tr>\n",
       "        <td>Sydney</td>\n",
       "        <td>504</td>\n",
       "    </tr>\n",
       "    <tr>\n",
       "        <td>Dhaka</td>\n",
       "        <td>476</td>\n",
       "    </tr>\n",
       "    <tr>\n",
       "        <td>Harare</td>\n",
       "        <td>408</td>\n",
       "    </tr>\n",
       "    <tr>\n",
       "        <td>Colombo (RPS)</td>\n",
       "        <td>322</td>\n",
       "    </tr>\n",
       "    <tr>\n",
       "        <td>Lord&#x27;s</td>\n",
       "        <td>320</td>\n",
       "    </tr>\n",
       "    <tr>\n",
       "        <td>The Oval</td>\n",
       "        <td>298</td>\n",
       "    </tr>\n",
       "    <tr>\n",
       "        <td>Adelaide</td>\n",
       "        <td>296</td>\n",
       "    </tr>\n",
       "    <tr>\n",
       "        <td>Brisbane</td>\n",
       "        <td>258</td>\n",
       "    </tr>\n",
       "</table>"
      ],
      "text/plain": [
       "[('Sharjah', 518),\n",
       " ('Melbourne', 506),\n",
       " ('Sydney', 504),\n",
       " ('Dhaka', 476),\n",
       " ('Harare', 408),\n",
       " ('Colombo (RPS)', 322),\n",
       " (\"Lord's\", 320),\n",
       " ('The Oval', 298),\n",
       " ('Adelaide', 296),\n",
       " ('Brisbane', 258)]"
      ]
     },
     "execution_count": 24,
     "metadata": {},
     "output_type": "execute_result"
    }
   ],
   "source": [
    "%%sql \n",
    "    \n",
    "SELECT \n",
    "    ground, \n",
    "    COUNT(match_id) as TotalMatchesPlayed\n",
    "FROM matches \n",
    "GROUP BY ground\n",
    "ORDER BY TotalMatchesPlayed DESC LIMIT 10"
   ]
  },
  {
   "cell_type": "markdown",
   "metadata": {},
   "source": [
    "Plotting the above query:"
   ]
  },
  {
   "cell_type": "code",
   "execution_count": 124,
   "metadata": {},
   "outputs": [
    {
     "name": "stdout",
     "output_type": "stream",
     "text": [
      " * sqlite:///../datasets/cricket_rDB.db3\n",
      "Done.\n",
      "Returning data to local variable plot3df\n"
     ]
    }
   ],
   "source": [
    "%%sql plot3df <<\n",
    "    \n",
    "SELECT \n",
    "    ground, \n",
    "    COUNT(match_id) as TotalMatchesPlayed\n",
    "FROM matches \n",
    "GROUP BY ground\n",
    "ORDER BY TotalMatchesPlayed DESC LIMIT 15"
   ]
  },
  {
   "cell_type": "code",
   "execution_count": 125,
   "metadata": {},
   "outputs": [
    {
     "data": {
      "text/plain": [
       "Text(0.5, 1.0, 'Top Cricket Grounds by Number of Matches Played')"
      ]
     },
     "execution_count": 125,
     "metadata": {},
     "output_type": "execute_result"
    },
    {
     "data": {
      "image/png": "[encoded data removed]",
      "text/plain": [
       "<Figure size 1008x576 with 1 Axes>"
      ]
     },
     "metadata": {},
     "output_type": "display_data"
    }
   ],
   "source": [
    "plot3 = plot3df.DataFrame()\n",
    "plot3 = plot3.set_index('ground')\n",
    "ax = plot3.sort_values(by=\"TotalMatchesPlayed\", ascending=True).plot(kind=\"barh\",color=\"#33bb77\",legend=False)\n",
    "addbarhlabels(ax)\n",
    "noborders(ax)\n",
    "plt.xticks([])\n",
    "plt.ylabel(\"\")\n",
    "plt.title(\"Top Cricket Grounds by Number of Matches Played\", size=16)"
   ]
  },
  {
   "cell_type": "markdown",
   "metadata": {},
   "source": [
    "The query below uses two joins to retrieve the country information for each player and then stores it into a view."
   ]
  },
  {
   "cell_type": "code",
   "execution_count": 76,
   "metadata": {},
   "outputs": [
    {
     "name": "stdout",
     "output_type": "stream",
     "text": [
      "Done.\n"
     ]
    },
    {
     "data": {
      "text/plain": [
       "[]"
      ]
     },
     "execution_count": 76,
     "metadata": {},
     "output_type": "execute_result"
    }
   ],
   "source": [
    "%%sql \n",
    "\n",
    "CREATE VIEW players_merged AS\n",
    "    SELECT *\n",
    "    FROM players\n",
    "    INNER JOIN(\n",
    "        SELECT player_id, country \n",
    "        FROM playercountrymap\n",
    "        INNER JOIN countrynamemap\n",
    "    USING(country_short))\n",
    "USING(player_id)"
   ]
  },
  {
   "cell_type": "markdown",
   "metadata": {},
   "source": [
    "The query below makes use of the view above to aggregate the total number of runs scored by each team."
   ]
  },
  {
   "cell_type": "code",
   "execution_count": 126,
   "metadata": {},
   "outputs": [
    {
     "name": "stdout",
     "output_type": "stream",
     "text": [
      " * sqlite:///../datasets/cricket_rDB.db3\n",
      "Done.\n"
     ]
    },
    {
     "data": {
      "text/html": [
       "<table>\n",
       "    <tr>\n",
       "        <th>country</th>\n",
       "        <th>TotalRuns</th>\n",
       "    </tr>\n",
       "    <tr>\n",
       "        <td>Australia</td>\n",
       "        <td>652660</td>\n",
       "    </tr>\n",
       "    <tr>\n",
       "        <td>England</td>\n",
       "        <td>613365</td>\n",
       "    </tr>\n",
       "    <tr>\n",
       "        <td>South Africa</td>\n",
       "        <td>518670</td>\n",
       "    </tr>\n",
       "    <tr>\n",
       "        <td>India</td>\n",
       "        <td>486592</td>\n",
       "    </tr>\n",
       "    <tr>\n",
       "        <td>West Indies</td>\n",
       "        <td>402664</td>\n",
       "    </tr>\n",
       "    <tr>\n",
       "        <td>New Zealand</td>\n",
       "        <td>389975</td>\n",
       "    </tr>\n",
       "    <tr>\n",
       "        <td>Sri Lanka</td>\n",
       "        <td>345095</td>\n",
       "    </tr>\n",
       "    <tr>\n",
       "        <td>Pakistan</td>\n",
       "        <td>310234</td>\n",
       "    </tr>\n",
       "    <tr>\n",
       "        <td>Zimbabwe</td>\n",
       "        <td>143724</td>\n",
       "    </tr>\n",
       "    <tr>\n",
       "        <td>Bangladesh</td>\n",
       "        <td>94620</td>\n",
       "    </tr>\n",
       "    <tr>\n",
       "        <td>Ireland</td>\n",
       "        <td>55604</td>\n",
       "    </tr>\n",
       "    <tr>\n",
       "        <td>Afghanistan</td>\n",
       "        <td>34287</td>\n",
       "    </tr>\n",
       "</table>"
      ],
      "text/plain": [
       "[('Australia', 652660),\n",
       " ('England', 613365),\n",
       " ('South Africa', 518670),\n",
       " ('India', 486592),\n",
       " ('West Indies', 402664),\n",
       " ('New Zealand', 389975),\n",
       " ('Sri Lanka', 345095),\n",
       " ('Pakistan', 310234),\n",
       " ('Zimbabwe', 143724),\n",
       " ('Bangladesh', 94620),\n",
       " ('Ireland', 55604),\n",
       " ('Afghanistan', 34287)]"
      ]
     },
     "execution_count": 126,
     "metadata": {},
     "output_type": "execute_result"
    }
   ],
   "source": [
    "%%sql\n",
    "\n",
    "SELECT country, SUM(runs) as TotalRuns\n",
    "FROM players_merged\n",
    "GROUP BY country\n",
    "ORDER BY TotalRuns DESC"
   ]
  },
  {
   "cell_type": "markdown",
   "metadata": {},
   "source": [
    "Storing the query into a dataframe in order to generate a plot:"
   ]
  },
  {
   "cell_type": "code",
   "execution_count": 128,
   "metadata": {},
   "outputs": [
    {
     "name": "stdout",
     "output_type": "stream",
     "text": [
      " * sqlite:///../datasets/cricket_rDB.db3\n",
      "Done.\n",
      "Returning data to local variable plot4df\n"
     ]
    }
   ],
   "source": [
    "%%sql plot4df <<\n",
    "\n",
    "SELECT country, SUM(runs) as TotalRuns\n",
    "FROM players_merged\n",
    "GROUP BY country\n",
    "ORDER BY TotalRuns DESC"
   ]
  },
  {
   "cell_type": "code",
   "execution_count": 130,
   "metadata": {},
   "outputs": [
    {
     "data": {
      "text/plain": [
       "Text(0.5, 1.0, 'Number of Runs Scored by Country')"
      ]
     },
     "execution_count": 130,
     "metadata": {},
     "output_type": "execute_result"
    },
    {
     "data": {
      "image/png": "[encoded data removed]",
      "text/plain": [
       "<Figure size 1008x576 with 1 Axes>"
      ]
     },
     "metadata": {},
     "output_type": "display_data"
    }
   ],
   "source": [
    "plot4 = plot4df.DataFrame()\n",
    "plot4 = plot4.set_index('country')\n",
    "ax = plot4.sort_values(by=\"TotalRuns\", ascending=True).plot(kind=\"barh\",color=\"#33bb77\",legend=False)\n",
    "addbarhlabels(ax)\n",
    "noborders(ax)\n",
    "plt.xticks([])\n",
    "plt.ylabel(\"\")\n",
    "plt.title(\"Number of Runs Scored by Country\", size=16)"
   ]
  },
  {
   "cell_type": "markdown",
   "metadata": {},
   "source": [
    "Total number of matches played by the 12 main cricket nations:"
   ]
  },
  {
   "cell_type": "code",
   "execution_count": 203,
   "metadata": {},
   "outputs": [
    {
     "name": "stdout",
     "output_type": "stream",
     "text": [
      " * sqlite:///../datasets/cricket_rDB.db3\n",
      "Done.\n"
     ]
    },
    {
     "data": {
      "text/html": [
       "<table>\n",
       "    <tr>\n",
       "        <th>country</th>\n",
       "        <th>TotalMatchesPlayed</th>\n",
       "    </tr>\n",
       "    <tr>\n",
       "        <td>Australia</td>\n",
       "        <td>1636</td>\n",
       "    </tr>\n",
       "    <tr>\n",
       "        <td>England</td>\n",
       "        <td>1498</td>\n",
       "    </tr>\n",
       "    <tr>\n",
       "        <td>India</td>\n",
       "        <td>1370</td>\n",
       "    </tr>\n",
       "    <tr>\n",
       "        <td>Pakistan</td>\n",
       "        <td>1296</td>\n",
       "    </tr>\n",
       "    <tr>\n",
       "        <td>West Indies</td>\n",
       "        <td>1259</td>\n",
       "    </tr>\n",
       "    <tr>\n",
       "        <td>Sri Lanka</td>\n",
       "        <td>1117</td>\n",
       "    </tr>\n",
       "    <tr>\n",
       "        <td>New Zealand</td>\n",
       "        <td>1115</td>\n",
       "    </tr>\n",
       "    <tr>\n",
       "        <td>South Africa</td>\n",
       "        <td>1025</td>\n",
       "    </tr>\n",
       "    <tr>\n",
       "        <td>Zimbabwe</td>\n",
       "        <td>615</td>\n",
       "    </tr>\n",
       "    <tr>\n",
       "        <td>Bangladesh</td>\n",
       "        <td>536</td>\n",
       "    </tr>\n",
       "    <tr>\n",
       "        <td>Afghanistan</td>\n",
       "        <td>139</td>\n",
       "    </tr>\n",
       "    <tr>\n",
       "        <td>Ireland</td>\n",
       "        <td>138</td>\n",
       "    </tr>\n",
       "</table>"
      ],
      "text/plain": [
       "[('Australia', 1636),\n",
       " ('England', 1498),\n",
       " ('India', 1370),\n",
       " ('Pakistan', 1296),\n",
       " ('West Indies', 1259),\n",
       " ('Sri Lanka', 1117),\n",
       " ('New Zealand', 1115),\n",
       " ('South Africa', 1025),\n",
       " ('Zimbabwe', 615),\n",
       " ('Bangladesh', 536),\n",
       " ('Afghanistan', 139),\n",
       " ('Ireland', 138)]"
      ]
     },
     "execution_count": 203,
     "metadata": {},
     "output_type": "execute_result"
    }
   ],
   "source": [
    "%%sql \n",
    "\n",
    "SELECT country, COUNT(match_id) as TotalMatchesPlayed\n",
    "FROM matches\n",
    "WHERE country IN\n",
    "        (SELECT country\n",
    "         FROM countrynamemap) \n",
    "       and \n",
    "        opposition IN\n",
    "        (SELECT country\n",
    "         FROM countrynamemap) \n",
    "GROUP BY country\n",
    "ORDER BY TotalMatchesPlayed DESC"
   ]
  },
  {
   "cell_type": "markdown",
   "metadata": {},
   "source": [
    "The follwing database view creates a subset of the matches data filtered by matches played only by the 12 main Cricket nations. This is achieved using a simple subquery:"
   ]
  },
  {
   "cell_type": "code",
   "execution_count": 67,
   "metadata": {},
   "outputs": [
    {
     "name": "stdout",
     "output_type": "stream",
     "text": [
      "Done.\n"
     ]
    },
    {
     "data": {
      "text/plain": [
       "[]"
      ]
     },
     "execution_count": 67,
     "metadata": {},
     "output_type": "execute_result"
    }
   ],
   "source": [
    "%%sql \n",
    "    \n",
    "CREATE VIEW matches_top12teams AS\n",
    "    SELECT *\n",
    "    FROM matches\n",
    "    WHERE country IN\n",
    "        (SELECT country\n",
    "        FROM countrynamemap) \n",
    "        and \n",
    "        opposition IN\n",
    "        (SELECT country\n",
    "        FROM countrynamemap) "
   ]
  },
  {
   "cell_type": "code",
   "execution_count": 200,
   "metadata": {},
   "outputs": [
    {
     "name": "stdout",
     "output_type": "stream",
     "text": [
      " * sqlite:///../datasets/cricket_rDB.db3\n",
      "Done.\n"
     ]
    },
    {
     "data": {
      "text/html": [
       "<table>\n",
       "    <tr>\n",
       "        <th>COUNT(*)</th>\n",
       "    </tr>\n",
       "    <tr>\n",
       "        <td>11744</td>\n",
       "    </tr>\n",
       "</table>"
      ],
      "text/plain": [
       "[(11744,)]"
      ]
     },
     "execution_count": 200,
     "metadata": {},
     "output_type": "execute_result"
    }
   ],
   "source": [
    "%%sql \n",
    "SELECT COUNT(*) FROM matches_top12teams"
   ]
  },
  {
   "cell_type": "code",
   "execution_count": 201,
   "metadata": {},
   "outputs": [
    {
     "name": "stdout",
     "output_type": "stream",
     "text": [
      " * sqlite:///../datasets/cricket_rDB.db3\n",
      "Done.\n"
     ]
    },
    {
     "data": {
      "text/html": [
       "<table>\n",
       "    <tr>\n",
       "        <th>COUNT(*)</th>\n",
       "    </tr>\n",
       "    <tr>\n",
       "        <td>13588</td>\n",
       "    </tr>\n",
       "</table>"
      ],
      "text/plain": [
       "[(13588,)]"
      ]
     },
     "execution_count": 201,
     "metadata": {},
     "output_type": "execute_result"
    }
   ],
   "source": [
    "%%sql \n",
    "SELECT COUNT(*) FROM matches"
   ]
  },
  {
   "cell_type": "markdown",
   "metadata": {},
   "source": [
    "As seen from the counts above, the subset from the database view contains 11,744 records while the original table contains 13,888 rows. This means that the view creation was successful.\n",
    "\n",
    "Query to obtain the win and loss rate % by Country:"
   ]
  },
  {
   "cell_type": "code",
   "execution_count": 134,
   "metadata": {},
   "outputs": [
    {
     "name": "stdout",
     "output_type": "stream",
     "text": [
      " * sqlite:///../datasets/cricket_rDB.db3\n",
      "Done.\n"
     ]
    },
    {
     "data": {
      "text/html": [
       "<table>\n",
       "    <tr>\n",
       "        <th>country</th>\n",
       "        <th>TotalMatchesPlayed</th>\n",
       "        <th>TotalWins</th>\n",
       "        <th>WinRatePct</th>\n",
       "        <th>LossRatePct</th>\n",
       "    </tr>\n",
       "    <tr>\n",
       "        <td>Australia</td>\n",
       "        <td>1636</td>\n",
       "        <td>1021</td>\n",
       "        <td>62</td>\n",
       "        <td>38</td>\n",
       "    </tr>\n",
       "    <tr>\n",
       "        <td>England</td>\n",
       "        <td>1498</td>\n",
       "        <td>805</td>\n",
       "        <td>53</td>\n",
       "        <td>47</td>\n",
       "    </tr>\n",
       "    <tr>\n",
       "        <td>India</td>\n",
       "        <td>1370</td>\n",
       "        <td>734</td>\n",
       "        <td>53</td>\n",
       "        <td>47</td>\n",
       "    </tr>\n",
       "    <tr>\n",
       "        <td>Pakistan</td>\n",
       "        <td>1296</td>\n",
       "        <td>694</td>\n",
       "        <td>53</td>\n",
       "        <td>47</td>\n",
       "    </tr>\n",
       "    <tr>\n",
       "        <td>West Indies</td>\n",
       "        <td>1259</td>\n",
       "        <td>613</td>\n",
       "        <td>48</td>\n",
       "        <td>52</td>\n",
       "    </tr>\n",
       "    <tr>\n",
       "        <td>Sri Lanka</td>\n",
       "        <td>1117</td>\n",
       "        <td>519</td>\n",
       "        <td>46</td>\n",
       "        <td>54</td>\n",
       "    </tr>\n",
       "    <tr>\n",
       "        <td>New Zealand</td>\n",
       "        <td>1115</td>\n",
       "        <td>506</td>\n",
       "        <td>45</td>\n",
       "        <td>55</td>\n",
       "    </tr>\n",
       "    <tr>\n",
       "        <td>South Africa</td>\n",
       "        <td>1025</td>\n",
       "        <td>603</td>\n",
       "        <td>58</td>\n",
       "        <td>42</td>\n",
       "    </tr>\n",
       "    <tr>\n",
       "        <td>Zimbabwe</td>\n",
       "        <td>615</td>\n",
       "        <td>122</td>\n",
       "        <td>19</td>\n",
       "        <td>81</td>\n",
       "    </tr>\n",
       "    <tr>\n",
       "        <td>Bangladesh</td>\n",
       "        <td>536</td>\n",
       "        <td>153</td>\n",
       "        <td>28</td>\n",
       "        <td>72</td>\n",
       "    </tr>\n",
       "    <tr>\n",
       "        <td>Afghanistan</td>\n",
       "        <td>139</td>\n",
       "        <td>69</td>\n",
       "        <td>49</td>\n",
       "        <td>51</td>\n",
       "    </tr>\n",
       "    <tr>\n",
       "        <td>Ireland</td>\n",
       "        <td>138</td>\n",
       "        <td>33</td>\n",
       "        <td>23</td>\n",
       "        <td>77</td>\n",
       "    </tr>\n",
       "</table>"
      ],
      "text/plain": [
       "[('Australia', 1636, 1021, 62, 38),\n",
       " ('England', 1498, 805, 53, 47),\n",
       " ('India', 1370, 734, 53, 47),\n",
       " ('Pakistan', 1296, 694, 53, 47),\n",
       " ('West Indies', 1259, 613, 48, 52),\n",
       " ('Sri Lanka', 1117, 519, 46, 54),\n",
       " ('New Zealand', 1115, 506, 45, 55),\n",
       " ('South Africa', 1025, 603, 58, 42),\n",
       " ('Zimbabwe', 615, 122, 19, 81),\n",
       " ('Bangladesh', 536, 153, 28, 72),\n",
       " ('Afghanistan', 139, 69, 49, 51),\n",
       " ('Ireland', 138, 33, 23, 77)]"
      ]
     },
     "execution_count": 134,
     "metadata": {},
     "output_type": "execute_result"
    }
   ],
   "source": [
    "%%sql \n",
    "    \n",
    "SELECT *, TotalWins*100/TotalMatchesPlayed as WinRatePct, 100 - TotalWins*100/TotalMatchesPlayed as LossRatePct\n",
    "FROM (\n",
    "    SELECT country, COUNT(match_id) as TotalMatchesPlayed\n",
    "    FROM matches_top12teams \n",
    "    GROUP BY country\n",
    "    ORDER BY TotalMatchesPlayed DESC) \n",
    "INNER JOIN\n",
    "    (SELECT country, COUNT(match_id) as TotalWins\n",
    "    FROM matches_top12teams\n",
    "    WHERE result=\"won\" \n",
    "    GROUP BY country\n",
    "    ORDER BY TotalWins DESC)\n",
    "USING(country)"
   ]
  },
  {
   "cell_type": "markdown",
   "metadata": {},
   "source": [
    "Storing the query into a dataframe and then generating a plot:"
   ]
  },
  {
   "cell_type": "code",
   "execution_count": 135,
   "metadata": {},
   "outputs": [
    {
     "name": "stdout",
     "output_type": "stream",
     "text": [
      " * sqlite:///../datasets/cricket_rDB.db3\n",
      "Done.\n",
      "Returning data to local variable plot5df\n"
     ]
    }
   ],
   "source": [
    "%%sql plot5df <<\n",
    "    \n",
    "SELECT *, TotalWins*100/TotalMatchesPlayed as WinRatePct, 100 - TotalWins*100/TotalMatchesPlayed as LossRatePct\n",
    "FROM (\n",
    "    SELECT country, COUNT(match_id) as TotalMatchesPlayed\n",
    "    FROM matches_top12teams \n",
    "    GROUP BY country\n",
    "    ORDER BY TotalMatchesPlayed DESC) \n",
    "INNER JOIN\n",
    "    (SELECT country, COUNT(match_id) as TotalWins\n",
    "    FROM matches_top12teams\n",
    "    WHERE result=\"won\" \n",
    "    GROUP BY country\n",
    "    ORDER BY TotalWins DESC)\n",
    "USING(country)"
   ]
  },
  {
   "cell_type": "code",
   "execution_count": 138,
   "metadata": {},
   "outputs": [
    {
     "data": {
      "image/png": "[encoded data removed]",
      "text/plain": [
       "<Figure size 1008x576 with 1 Axes>"
      ]
     },
     "metadata": {},
     "output_type": "display_data"
    }
   ],
   "source": [
    "plot5 = plot5df.DataFrame()\n",
    "plot5 = plot5.set_index('country')\n",
    "\n",
    "cmap = sns.diverging_palette(143, 14, l=62, s=85, as_cmap=True)\n",
    "\n",
    "ax = plot5[['WinRatePct','LossRatePct']].sort_values(by=['WinRatePct'], ascending=True).plot(\n",
    "         kind=\"barh\", \n",
    "         cmap=cmap,\n",
    "         stacked=True, \n",
    "         legend=True)\n",
    "\n",
    "plt.title('Teams Ranked by Win Rate % (All formats)\\n', fontsize=17)\n",
    "plt.ylabel('')\n",
    "plt.xlabel('Win or Loss Rate %')\n",
    "plt.xlim(0,100)\n",
    "plt.legend(bbox_to_anchor=(1.01,1),borderaxespad=0)\n",
    "noborders(ax)\n",
    "plt.grid(True)"
   ]
  },
  {
   "cell_type": "markdown",
   "metadata": {},
   "source": [
    "The goal of the following query is to generate a cross-tabulation of win rate percentages among teams, similar to what a pivot table normally generates."
   ]
  },
  {
   "cell_type": "code",
   "execution_count": 183,
   "metadata": {},
   "outputs": [
    {
     "name": "stdout",
     "output_type": "stream",
     "text": [
      " * sqlite:///../datasets/cricket_rDB.db3\n",
      "Done.\n"
     ]
    },
    {
     "data": {
      "text/plain": [
       "[]"
      ]
     },
     "execution_count": 183,
     "metadata": {},
     "output_type": "execute_result"
    }
   ],
   "source": [
    "%%sql \n",
    "\n",
    "CREATE VIEW crosswinrate AS\n",
    "\n",
    "  SELECT country,\n",
    "        sum(case when opposition = 'Afghanistan' then WinRatePct end) as Afghanistan,\n",
    "        sum(case when opposition = 'Australia' then WinRatePct end) as Australia,\n",
    "        sum(case when opposition = 'Bangladesh' then WinRatePct end) as Bangladesh,\n",
    "        sum(case when opposition = 'England' then WinRatePct end) as England,\n",
    "        sum(case when opposition = 'India' then WinRatePct end) as India,\n",
    "        sum(case when opposition = 'Ireland' then WinRatePct end) as Ireland,\n",
    "        sum(case when opposition = 'New Zealand' then WinRatePct end) as \"New Zealand\",\n",
    "        sum(case when opposition = 'Pakistan' then WinRatePct end) as Pakistan,\n",
    "        sum(case when opposition = 'South Africa' then WinRatePct end) as \"South Africa\",\n",
    "        sum(case when opposition = 'Sri Lanka' then WinRatePct end) as \"Sri Lanka\",\n",
    "        sum(case when opposition = 'West Indies' then WinRatePct end) as \"West Indies\",\n",
    "        sum(case when opposition = 'Zimbabwe' then WinRatePct end) as Zimbabwe\n",
    "FROM(\n",
    "    SELECT \n",
    "        country, \n",
    "        opposition, \n",
    "        COUNT(case when result = 'won' then match_id end)*100 / COUNT(*) as WinRatePct\n",
    "    FROM matches_top12teams\n",
    "    GROUP BY country, opposition)\n",
    "GROUP BY country"
   ]
  },
  {
   "cell_type": "code",
   "execution_count": 185,
   "metadata": {},
   "outputs": [
    {
     "name": "stdout",
     "output_type": "stream",
     "text": [
      " * sqlite:///../datasets/cricket_rDB.db3\n",
      "Done.\n"
     ]
    },
    {
     "data": {
      "text/html": [
       "<table>\n",
       "    <tr>\n",
       "        <th>country</th>\n",
       "        <th>Afghanistan</th>\n",
       "        <th>Australia</th>\n",
       "        <th>Bangladesh</th>\n",
       "        <th>England</th>\n",
       "        <th>India</th>\n",
       "        <th>Ireland</th>\n",
       "        <th>New Zealand</th>\n",
       "        <th>Pakistan</th>\n",
       "        <th>South Africa</th>\n",
       "        <th>Sri Lanka</th>\n",
       "        <th>West Indies</th>\n",
       "        <th>Zimbabwe</th>\n",
       "    </tr>\n",
       "    <tr>\n",
       "        <td>Afghanistan</td>\n",
       "        <td>None</td>\n",
       "        <td>0</td>\n",
       "        <td>53</td>\n",
       "        <td>0</td>\n",
       "        <td>0</td>\n",
       "        <td>65</td>\n",
       "        <td>0</td>\n",
       "        <td>0</td>\n",
       "        <td>0</td>\n",
       "        <td>20</td>\n",
       "        <td>37</td>\n",
       "        <td>67</td>\n",
       "    </tr>\n",
       "    <tr>\n",
       "        <td>Australia</td>\n",
       "        <td>100</td>\n",
       "        <td>None</td>\n",
       "        <td>93</td>\n",
       "        <td>57</td>\n",
       "        <td>57</td>\n",
       "        <td>100</td>\n",
       "        <td>73</td>\n",
       "        <td>65</td>\n",
       "        <td>57</td>\n",
       "        <td>66</td>\n",
       "        <td>58</td>\n",
       "        <td>91</td>\n",
       "    </tr>\n",
       "    <tr>\n",
       "        <td>Bangladesh</td>\n",
       "        <td>46</td>\n",
       "        <td>6</td>\n",
       "        <td>None</td>\n",
       "        <td>16</td>\n",
       "        <td>10</td>\n",
       "        <td>76</td>\n",
       "        <td>18</td>\n",
       "        <td>11</td>\n",
       "        <td>10</td>\n",
       "        <td>16</td>\n",
       "        <td>40</td>\n",
       "        <td>61</td>\n",
       "    </tr>\n",
       "    <tr>\n",
       "        <td>England</td>\n",
       "        <td>100</td>\n",
       "        <td>42</td>\n",
       "        <td>83</td>\n",
       "        <td>None</td>\n",
       "        <td>53</td>\n",
       "        <td>84</td>\n",
       "        <td>62</td>\n",
       "        <td>60</td>\n",
       "        <td>58</td>\n",
       "        <td>54</td>\n",
       "        <td>49</td>\n",
       "        <td>75</td>\n",
       "    </tr>\n",
       "    <tr>\n",
       "        <td>India</td>\n",
       "        <td>100</td>\n",
       "        <td>42</td>\n",
       "        <td>89</td>\n",
       "        <td>46</td>\n",
       "        <td>None</td>\n",
       "        <td>100</td>\n",
       "        <td>54</td>\n",
       "        <td>44</td>\n",
       "        <td>46</td>\n",
       "        <td>64</td>\n",
       "        <td>49</td>\n",
       "        <td>81</td>\n",
       "    </tr>\n",
       "    <tr>\n",
       "        <td>Ireland</td>\n",
       "        <td>34</td>\n",
       "        <td>0</td>\n",
       "        <td>23</td>\n",
       "        <td>15</td>\n",
       "        <td>0</td>\n",
       "        <td>None</td>\n",
       "        <td>0</td>\n",
       "        <td>12</td>\n",
       "        <td>0</td>\n",
       "        <td>0</td>\n",
       "        <td>18</td>\n",
       "        <td>53</td>\n",
       "    </tr>\n",
       "    <tr>\n",
       "        <td>New Zealand</td>\n",
       "        <td>100</td>\n",
       "        <td>26</td>\n",
       "        <td>81</td>\n",
       "        <td>37</td>\n",
       "        <td>45</td>\n",
       "        <td>100</td>\n",
       "        <td>None</td>\n",
       "        <td>43</td>\n",
       "        <td>30</td>\n",
       "        <td>56</td>\n",
       "        <td>53</td>\n",
       "        <td>83</td>\n",
       "    </tr>\n",
       "    <tr>\n",
       "        <td>Pakistan</td>\n",
       "        <td>100</td>\n",
       "        <td>34</td>\n",
       "        <td>88</td>\n",
       "        <td>39</td>\n",
       "        <td>55</td>\n",
       "        <td>87</td>\n",
       "        <td>56</td>\n",
       "        <td>None</td>\n",
       "        <td>36</td>\n",
       "        <td>60</td>\n",
       "        <td>50</td>\n",
       "        <td>91</td>\n",
       "    </tr>\n",
       "    <tr>\n",
       "        <td>South Africa</td>\n",
       "        <td>100</td>\n",
       "        <td>42</td>\n",
       "        <td>89</td>\n",
       "        <td>41</td>\n",
       "        <td>53</td>\n",
       "        <td>100</td>\n",
       "        <td>70</td>\n",
       "        <td>63</td>\n",
       "        <td>None</td>\n",
       "        <td>59</td>\n",
       "        <td>75</td>\n",
       "        <td>96</td>\n",
       "    </tr>\n",
       "    <tr>\n",
       "        <td>Sri Lanka</td>\n",
       "        <td>80</td>\n",
       "        <td>33</td>\n",
       "        <td>83</td>\n",
       "        <td>45</td>\n",
       "        <td>35</td>\n",
       "        <td>100</td>\n",
       "        <td>43</td>\n",
       "        <td>39</td>\n",
       "        <td>40</td>\n",
       "        <td>None</td>\n",
       "        <td>54</td>\n",
       "        <td>84</td>\n",
       "    </tr>\n",
       "    <tr>\n",
       "        <td>West Indies</td>\n",
       "        <td>62</td>\n",
       "        <td>41</td>\n",
       "        <td>59</td>\n",
       "        <td>50</td>\n",
       "        <td>50</td>\n",
       "        <td>81</td>\n",
       "        <td>46</td>\n",
       "        <td>50</td>\n",
       "        <td>24</td>\n",
       "        <td>45</td>\n",
       "        <td>None</td>\n",
       "        <td>80</td>\n",
       "    </tr>\n",
       "    <tr>\n",
       "        <td>Zimbabwe</td>\n",
       "        <td>32</td>\n",
       "        <td>8</td>\n",
       "        <td>38</td>\n",
       "        <td>24</td>\n",
       "        <td>18</td>\n",
       "        <td>46</td>\n",
       "        <td>16</td>\n",
       "        <td>8</td>\n",
       "        <td>3</td>\n",
       "        <td>15</td>\n",
       "        <td>19</td>\n",
       "        <td>None</td>\n",
       "    </tr>\n",
       "</table>"
      ],
      "text/plain": [
       "[('Afghanistan', None, 0, 53, 0, 0, 65, 0, 0, 0, 20, 37, 67),\n",
       " ('Australia', 100, None, 93, 57, 57, 100, 73, 65, 57, 66, 58, 91),\n",
       " ('Bangladesh', 46, 6, None, 16, 10, 76, 18, 11, 10, 16, 40, 61),\n",
       " ('England', 100, 42, 83, None, 53, 84, 62, 60, 58, 54, 49, 75),\n",
       " ('India', 100, 42, 89, 46, None, 100, 54, 44, 46, 64, 49, 81),\n",
       " ('Ireland', 34, 0, 23, 15, 0, None, 0, 12, 0, 0, 18, 53),\n",
       " ('New Zealand', 100, 26, 81, 37, 45, 100, None, 43, 30, 56, 53, 83),\n",
       " ('Pakistan', 100, 34, 88, 39, 55, 87, 56, None, 36, 60, 50, 91),\n",
       " ('South Africa', 100, 42, 89, 41, 53, 100, 70, 63, None, 59, 75, 96),\n",
       " ('Sri Lanka', 80, 33, 83, 45, 35, 100, 43, 39, 40, None, 54, 84),\n",
       " ('West Indies', 62, 41, 59, 50, 50, 81, 46, 50, 24, 45, None, 80),\n",
       " ('Zimbabwe', 32, 8, 38, 24, 18, 46, 16, 8, 3, 15, 19, None)]"
      ]
     },
     "execution_count": 185,
     "metadata": {},
     "output_type": "execute_result"
    }
   ],
   "source": [
    "%%sql\n",
    "SELECT * FROM crosswinrate"
   ]
  },
  {
   "cell_type": "markdown",
   "metadata": {},
   "source": [
    "Plotting the cross tabulation into a heatmap:"
   ]
  },
  {
   "cell_type": "code",
   "execution_count": 186,
   "metadata": {},
   "outputs": [
    {
     "name": "stdout",
     "output_type": "stream",
     "text": [
      " * sqlite:///../datasets/cricket_rDB.db3\n",
      "Done.\n",
      "Returning data to local variable plot6df\n"
     ]
    }
   ],
   "source": [
    "%%sql plot6df <<\n",
    "SELECT * FROM crosswinrate"
   ]
  },
  {
   "cell_type": "code",
   "execution_count": 204,
   "metadata": {},
   "outputs": [
    {
     "data": {
      "text/plain": [
       "(array([ 0.5,  1.5,  2.5,  3.5,  4.5,  5.5,  6.5,  7.5,  8.5,  9.5, 10.5,\n",
       "        11.5]),\n",
       " <a list of 12 Text xticklabel objects>)"
      ]
     },
     "execution_count": 204,
     "metadata": {},
     "output_type": "execute_result"
    },
    {
     "data": {
      "image/png": "[encoded data removed]",
      "text/plain": [
       "<Figure size 1008x576 with 2 Axes>"
      ]
     },
     "metadata": {},
     "output_type": "display_data"
    }
   ],
   "source": [
    "plot6 = plot6df.DataFrame()\n",
    "plot6 = plot6.set_index('country')\n",
    "res = sns.heatmap(plot6, cmap=\"Greens\", annot=True, fmt='.0f')\n",
    "for t in res.texts: t.set_text(t.get_text() + \"%\")\n",
    "plt.xlabel(\"Opposition\")\n",
    "plt.ylabel(\"Team\")\n",
    "plt.title(\"Heatmap of Inter-team Competitiveness (Win Rate %)\\n\", size=18)\n",
    "plt.xticks(rotation=50)"
   ]
  },
  {
   "cell_type": "markdown",
   "metadata": {},
   "source": [
    "### - Conclusion"
   ]
  },
  {
   "cell_type": "markdown",
   "metadata": {},
   "source": [
    "A key takeaway from the sample queries and visualizations generated is that the same, if not deeper, level of analysis can be performed using SQL queries as well. For some analyses, SQL queries are easier and faster than normal python group by operations or pivot tables. However, SQL queries can become lengthy and complicated for certain types of analyses. In these cases, the use of views can make the querying process much more efficient and methodical. SQL queries also offer more flexibility in that almost any imaginable output or inquiry can be generated by the use of joins, subqueries, and aggregate functions. This also means that there may be many ways of performing the same queries, so optimization is an integral part of writing SQL queries. "
   ]
  },
  {
   "cell_type": "markdown",
   "metadata": {},
   "source": [
    "<img src=../images/nv-analytics-footer.png>"
   ]
  }
 ],
 "metadata": {
  "kernelspec": {
   "display_name": "Python 3",
   "language": "python",
   "name": "python3"
  },
  "language_info": {
   "codemirror_mode": {
    "name": "ipython",
    "version": 3
   },
   "file_extension": ".py",
   "mimetype": "text/x-python",
   "name": "python",
   "nbconvert_exporter": "python",
   "pygments_lexer": "ipython3",
   "version": "3.8.8"
  },
  "toc": {
   "base_numbering": 1,
   "nav_menu": {},
   "number_sections": true,
   "sideBar": true,
   "skip_h1_title": true,
   "title_cell": "Table of Contents",
   "title_sidebar": "Contents",
   "toc_cell": false,
   "toc_position": {
    "height": "calc(100% - 180px)",
    "left": "10px",
    "top": "150px",
    "width": "316.288px"
   },
   "toc_section_display": true,
   "toc_window_display": true
  }
 },
 "nbformat": 4,
 "nbformat_minor": 4
}
